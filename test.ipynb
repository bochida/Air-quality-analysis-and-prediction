{
 "cells": [
  {
   "cell_type": "code",
   "execution_count": 1,
   "id": "7301fa3a",
   "metadata": {},
   "outputs": [],
   "source": [
    "import pandas as pd\n",
    "import numpy as np\n",
    "import matplotlib.pyplot as plt\n",
    "import seaborn as sns\n"
   ]
  },
  {
   "cell_type": "code",
   "execution_count": 2,
   "id": "c20762de",
   "metadata": {},
   "outputs": [
    {
     "name": "stdout",
     "output_type": "stream",
     "text": [
      "<class 'pandas.core.frame.DataFrame'>\n",
      "RangeIndex: 2164 entries, 0 to 2163\n",
      "Data columns (total 16 columns):\n",
      " #   Column   Non-Null Count  Dtype  \n",
      "---  ------   --------------  -----  \n",
      " 0   Rank     2164 non-null   int64  \n",
      " 1   City     2164 non-null   object \n",
      " 2   Country  2164 non-null   object \n",
      " 3   2023     2164 non-null   float64\n",
      " 4   Jan      2164 non-null   object \n",
      " 5   Feb      2164 non-null   object \n",
      " 6   Mar      2164 non-null   object \n",
      " 7   Apr      2164 non-null   object \n",
      " 8   May      2164 non-null   object \n",
      " 9   Jun      2164 non-null   object \n",
      " 10  Jul      2164 non-null   object \n",
      " 11  Aug      2164 non-null   object \n",
      " 12  Sep      2164 non-null   object \n",
      " 13  Oct      2164 non-null   object \n",
      " 14  Nov      2164 non-null   object \n",
      " 15  Dec      2164 non-null   object \n",
      "dtypes: float64(1), int64(1), object(14)\n",
      "memory usage: 270.6+ KB\n",
      "None\n"
     ]
    }
   ],
   "source": [
    "df = pd.read_csv(\"air_quality_dataset.csv\") \n",
    "print(df.info())"
   ]
  },
  {
   "cell_type": "code",
   "execution_count": null,
   "id": "9dcd9acb",
   "metadata": {},
   "outputs": [],
   "source": []
  },
  {
   "cell_type": "code",
   "execution_count": null,
   "id": "c4a4bf15",
   "metadata": {},
   "outputs": [
    {
     "data": {
      "text/plain": [
       "Nov        91\n",
       "Jan        87\n",
       "Feb        66\n",
       "May        58\n",
       "Dec        51\n",
       "Mar        33\n",
       "Oct        31\n",
       "Aug        11\n",
       "Sep        11\n",
       "Apr         9\n",
       "Jun         6\n",
       "Jul         4\n",
       "Rank        0\n",
       "City        0\n",
       "Country     0\n",
       "2023        0\n",
       "dtype: int64"
      ]
     },
     "execution_count": 6,
     "metadata": {},
     "output_type": "execute_result"
    }
   ],
   "source": []
  },
  {
   "cell_type": "code",
   "execution_count": null,
   "id": "c1803c89",
   "metadata": {},
   "outputs": [
    {
     "data": {
      "text/plain": [
       "np.int64(270)"
      ]
     },
     "execution_count": 7,
     "metadata": {},
     "output_type": "execute_result"
    }
   ],
   "source": []
  },
  {
   "cell_type": "markdown",
   "id": "95641e88",
   "metadata": {},
   "source": [
    "270 out of 2164 rows (12.48%) contain at least one missing value."
   ]
  }
 ],
 "metadata": {
  "kernelspec": {
   "display_name": "Python 3",
   "language": "python",
   "name": "python3"
  },
  "language_info": {
   "codemirror_mode": {
    "name": "ipython",
    "version": 3
   },
   "file_extension": ".py",
   "mimetype": "text/x-python",
   "name": "python",
   "nbconvert_exporter": "python",
   "pygments_lexer": "ipython3",
   "version": "3.12.8"
  }
 },
 "nbformat": 4,
 "nbformat_minor": 5
}
