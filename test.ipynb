{
 "cells": [
  {
   "cell_type": "code",
   "execution_count": 84,
   "id": "7301fa3a",
   "metadata": {},
   "outputs": [],
   "source": [
    "import pandas as pd\n",
    "import numpy as np\n",
    "import matplotlib.pyplot as plt\n",
    "import seaborn as sns\n",
    "import plotly.express as px\n",
    "import plotly.io as pio\n",
    "from sklearn.model_selection import train_test_split\n",
    "from sklearn.linear_model import LinearRegression\n",
    "from sklearn.ensemble import RandomForestRegressor\n",
    "from sklearn.metrics import mean_absolute_error, mean_squared_error, r2_score\n",
    "from lightgbm import LGBMRegressor\n",
    "from catboost import CatBoostRegressor\n",
    "from xgboost import XGBRegressor\n",
    "from sklearn.model_selection import train_test_split, cross_val_score\n"
   ]
  },
  {
   "cell_type": "code",
   "execution_count": 2,
   "id": "c20762de",
   "metadata": {},
   "outputs": [
    {
     "name": "stdout",
     "output_type": "stream",
     "text": [
      "<class 'pandas.core.frame.DataFrame'>\n",
      "RangeIndex: 2164 entries, 0 to 2163\n",
      "Data columns (total 16 columns):\n",
      " #   Column   Non-Null Count  Dtype  \n",
      "---  ------   --------------  -----  \n",
      " 0   Rank     2164 non-null   int64  \n",
      " 1   City     2164 non-null   object \n",
      " 2   Country  2164 non-null   object \n",
      " 3   2023     2164 non-null   float64\n",
      " 4   Jan      2164 non-null   object \n",
      " 5   Feb      2164 non-null   object \n",
      " 6   Mar      2164 non-null   object \n",
      " 7   Apr      2164 non-null   object \n",
      " 8   May      2164 non-null   object \n",
      " 9   Jun      2164 non-null   object \n",
      " 10  Jul      2164 non-null   object \n",
      " 11  Aug      2164 non-null   object \n",
      " 12  Sep      2164 non-null   object \n",
      " 13  Oct      2164 non-null   object \n",
      " 14  Nov      2164 non-null   object \n",
      " 15  Dec      2164 non-null   object \n",
      "dtypes: float64(1), int64(1), object(14)\n",
      "memory usage: 270.6+ KB\n",
      "None\n"
     ]
    }
   ],
   "source": [
    "df = pd.read_csv(\"air_quality_dataset.csv\") \n",
    "print(df.info()) #check info"
   ]
  },
  {
   "cell_type": "markdown",
   "id": "6cd45692",
   "metadata": {},
   "source": [
    "Data types should be similar so we need to change to float"
   ]
  },
  {
   "cell_type": "code",
   "execution_count": 3,
   "id": "9dcd9acb",
   "metadata": {},
   "outputs": [
    {
     "name": "stdout",
     "output_type": "stream",
     "text": [
      "<class 'pandas.core.frame.DataFrame'>\n",
      "RangeIndex: 2164 entries, 0 to 2163\n",
      "Data columns (total 16 columns):\n",
      " #   Column   Non-Null Count  Dtype  \n",
      "---  ------   --------------  -----  \n",
      " 0   Rank     2164 non-null   int64  \n",
      " 1   City     2164 non-null   object \n",
      " 2   Country  2164 non-null   object \n",
      " 3   2023     2164 non-null   float64\n",
      " 4   Jan      2077 non-null   float64\n",
      " 5   Feb      2098 non-null   float64\n",
      " 6   Mar      2131 non-null   float64\n",
      " 7   Apr      2155 non-null   float64\n",
      " 8   May      2106 non-null   float64\n",
      " 9   Jun      2158 non-null   float64\n",
      " 10  Jul      2160 non-null   float64\n",
      " 11  Aug      2153 non-null   float64\n",
      " 12  Sep      2153 non-null   float64\n",
      " 13  Oct      2133 non-null   float64\n",
      " 14  Nov      2073 non-null   float64\n",
      " 15  Dec      2113 non-null   float64\n",
      "dtypes: float64(13), int64(1), object(2)\n",
      "memory usage: 270.6+ KB\n"
     ]
    }
   ],
   "source": [
    "for col in df.columns[-12:]:\n",
    "    df[col] = pd.to_numeric(df[col],errors=\"coerce\")\n",
    "\n",
    "df.info()"
   ]
  },
  {
   "cell_type": "code",
   "execution_count": 4,
   "id": "c4a4bf15",
   "metadata": {},
   "outputs": [
    {
     "data": {
      "text/plain": [
       "Nov        91\n",
       "Jan        87\n",
       "Feb        66\n",
       "May        58\n",
       "Dec        51\n",
       "Mar        33\n",
       "Oct        31\n",
       "Aug        11\n",
       "Sep        11\n",
       "Apr         9\n",
       "Jun         6\n",
       "Jul         4\n",
       "Rank        0\n",
       "City        0\n",
       "Country     0\n",
       "2023        0\n",
       "dtype: int64"
      ]
     },
     "execution_count": 4,
     "metadata": {},
     "output_type": "execute_result"
    }
   ],
   "source": [
    "## check missing values by columns\n",
    "df.isnull().sum(axis=0).sort_values(ascending=False)    "
   ]
  },
  {
   "cell_type": "markdown",
   "id": "3614f247",
   "metadata": {},
   "source": []
  },
  {
   "cell_type": "code",
   "execution_count": 5,
   "id": "c1803c89",
   "metadata": {},
   "outputs": [
    {
     "data": {
      "text/plain": [
       "np.int64(270)"
      ]
     },
     "execution_count": 5,
     "metadata": {},
     "output_type": "execute_result"
    }
   ],
   "source": [
    "np.sum(df.isnull().sum(axis=1) > 0)"
   ]
  },
  {
   "cell_type": "code",
   "execution_count": 6,
   "id": "eaa58eae",
   "metadata": {},
   "outputs": [
    {
     "name": "stdout",
     "output_type": "stream",
     "text": [
      "458\n"
     ]
    }
   ],
   "source": [
    "print(df.isnull().sum().sum())"
   ]
  },
  {
   "cell_type": "markdown",
   "id": "95641e88",
   "metadata": {},
   "source": [
    "270 out of 2164 rows (12.48%) contain at least one missing value. And total amount is 458 missed value"
   ]
  },
  {
   "cell_type": "code",
   "execution_count": 7,
   "id": "3279f5f7",
   "metadata": {},
   "outputs": [
    {
     "data": {
      "text/plain": [
       "0"
      ]
     },
     "execution_count": 7,
     "metadata": {},
     "output_type": "execute_result"
    }
   ],
   "source": [
    "df.iloc[:, -12:] = df.iloc[:, -12:].apply(lambda col: col.fillna(col.mean()), axis=0)#adding mean to missing valuse\n",
    "sum(df.isnull().sum())#sum of missing values\n"
   ]
  },
  {
   "cell_type": "code",
   "execution_count": 8,
   "id": "dbee646b",
   "metadata": {},
   "outputs": [
    {
     "data": {
      "text/html": [
       "<div>\n",
       "<style scoped>\n",
       "    .dataframe tbody tr th:only-of-type {\n",
       "        vertical-align: middle;\n",
       "    }\n",
       "\n",
       "    .dataframe tbody tr th {\n",
       "        vertical-align: top;\n",
       "    }\n",
       "\n",
       "    .dataframe thead th {\n",
       "        text-align: right;\n",
       "    }\n",
       "</style>\n",
       "<table border=\"1\" class=\"dataframe\">\n",
       "  <thead>\n",
       "    <tr style=\"text-align: right;\">\n",
       "      <th></th>\n",
       "      <th>Rank</th>\n",
       "      <th>City</th>\n",
       "      <th>Country</th>\n",
       "      <th>2023</th>\n",
       "      <th>Jan</th>\n",
       "      <th>Feb</th>\n",
       "      <th>Mar</th>\n",
       "      <th>Apr</th>\n",
       "      <th>May</th>\n",
       "      <th>Jun</th>\n",
       "      <th>Jul</th>\n",
       "      <th>Aug</th>\n",
       "      <th>Sep</th>\n",
       "      <th>Oct</th>\n",
       "      <th>Nov</th>\n",
       "      <th>Dec</th>\n",
       "    </tr>\n",
       "  </thead>\n",
       "  <tbody>\n",
       "    <tr>\n",
       "      <th>0</th>\n",
       "      <td>1</td>\n",
       "      <td>Begusarai</td>\n",
       "      <td>India</td>\n",
       "      <td>118.9</td>\n",
       "      <td>31.2</td>\n",
       "      <td>235.3</td>\n",
       "      <td>156.8</td>\n",
       "      <td>113.0</td>\n",
       "      <td>109.3</td>\n",
       "      <td>99.0</td>\n",
       "      <td>63.800000</td>\n",
       "      <td>61.8</td>\n",
       "      <td>71.5</td>\n",
       "      <td>61.8</td>\n",
       "      <td>210.5</td>\n",
       "      <td>285.0</td>\n",
       "    </tr>\n",
       "    <tr>\n",
       "      <th>1</th>\n",
       "      <td>2</td>\n",
       "      <td>Guwahati</td>\n",
       "      <td>India</td>\n",
       "      <td>105.4</td>\n",
       "      <td>220.2</td>\n",
       "      <td>168.1</td>\n",
       "      <td>129.2</td>\n",
       "      <td>112.2</td>\n",
       "      <td>69.5</td>\n",
       "      <td>51.3</td>\n",
       "      <td>46.600000</td>\n",
       "      <td>60.2</td>\n",
       "      <td>76.7</td>\n",
       "      <td>76.4</td>\n",
       "      <td>126.9</td>\n",
       "      <td>128.0</td>\n",
       "    </tr>\n",
       "    <tr>\n",
       "      <th>2</th>\n",
       "      <td>3</td>\n",
       "      <td>Delhi</td>\n",
       "      <td>India</td>\n",
       "      <td>102.1</td>\n",
       "      <td>171.8</td>\n",
       "      <td>114.3</td>\n",
       "      <td>77.4</td>\n",
       "      <td>71.0</td>\n",
       "      <td>67.4</td>\n",
       "      <td>42.9</td>\n",
       "      <td>35.300000</td>\n",
       "      <td>34.8</td>\n",
       "      <td>39.7</td>\n",
       "      <td>106.3</td>\n",
       "      <td>255.1</td>\n",
       "      <td>210.0</td>\n",
       "    </tr>\n",
       "    <tr>\n",
       "      <th>3</th>\n",
       "      <td>4</td>\n",
       "      <td>Mullanpur</td>\n",
       "      <td>India</td>\n",
       "      <td>100.4</td>\n",
       "      <td>106.3</td>\n",
       "      <td>123.7</td>\n",
       "      <td>78.1</td>\n",
       "      <td>56.6</td>\n",
       "      <td>53.4</td>\n",
       "      <td>53.9</td>\n",
       "      <td>63.200000</td>\n",
       "      <td>59.7</td>\n",
       "      <td>59.6</td>\n",
       "      <td>110.4</td>\n",
       "      <td>253.0</td>\n",
       "      <td>201.4</td>\n",
       "    </tr>\n",
       "    <tr>\n",
       "      <th>4</th>\n",
       "      <td>5</td>\n",
       "      <td>Lahore</td>\n",
       "      <td>Pakistan</td>\n",
       "      <td>99.5</td>\n",
       "      <td>143.2</td>\n",
       "      <td>117.3</td>\n",
       "      <td>73.8</td>\n",
       "      <td>52.9</td>\n",
       "      <td>52.4</td>\n",
       "      <td>46.4</td>\n",
       "      <td>39.800000</td>\n",
       "      <td>42.2</td>\n",
       "      <td>53.8</td>\n",
       "      <td>125.9</td>\n",
       "      <td>251.0</td>\n",
       "      <td>197.5</td>\n",
       "    </tr>\n",
       "    <tr>\n",
       "      <th>5</th>\n",
       "      <td>6</td>\n",
       "      <td>New Delhi</td>\n",
       "      <td>India</td>\n",
       "      <td>92.7</td>\n",
       "      <td>162.6</td>\n",
       "      <td>98.2</td>\n",
       "      <td>67.1</td>\n",
       "      <td>59.0</td>\n",
       "      <td>57.7</td>\n",
       "      <td>40.1</td>\n",
       "      <td>31.700000</td>\n",
       "      <td>35.0</td>\n",
       "      <td>38.0</td>\n",
       "      <td>94.7</td>\n",
       "      <td>234.7</td>\n",
       "      <td>193.8</td>\n",
       "    </tr>\n",
       "    <tr>\n",
       "      <th>6</th>\n",
       "      <td>7</td>\n",
       "      <td>Siwan</td>\n",
       "      <td>India</td>\n",
       "      <td>90.6</td>\n",
       "      <td>223.6</td>\n",
       "      <td>167.5</td>\n",
       "      <td>108.3</td>\n",
       "      <td>71.7</td>\n",
       "      <td>59.8</td>\n",
       "      <td>48.9</td>\n",
       "      <td>35.700000</td>\n",
       "      <td>30.4</td>\n",
       "      <td>54.7</td>\n",
       "      <td>48.9</td>\n",
       "      <td>136.3</td>\n",
       "      <td>77.6</td>\n",
       "    </tr>\n",
       "    <tr>\n",
       "      <th>7</th>\n",
       "      <td>8</td>\n",
       "      <td>Saharsa</td>\n",
       "      <td>India</td>\n",
       "      <td>89.4</td>\n",
       "      <td>202.0</td>\n",
       "      <td>147.1</td>\n",
       "      <td>108.8</td>\n",
       "      <td>88.8</td>\n",
       "      <td>60.3</td>\n",
       "      <td>43.6</td>\n",
       "      <td>16.700000</td>\n",
       "      <td>24.3</td>\n",
       "      <td>33.6</td>\n",
       "      <td>41.8</td>\n",
       "      <td>115.8</td>\n",
       "      <td>167.8</td>\n",
       "    </tr>\n",
       "    <tr>\n",
       "      <th>8</th>\n",
       "      <td>9</td>\n",
       "      <td>Goshaingaon</td>\n",
       "      <td>India</td>\n",
       "      <td>89.3</td>\n",
       "      <td>205.3</td>\n",
       "      <td>117.5</td>\n",
       "      <td>63.8</td>\n",
       "      <td>63.3</td>\n",
       "      <td>60.7</td>\n",
       "      <td>39.2</td>\n",
       "      <td>27.300000</td>\n",
       "      <td>38.3</td>\n",
       "      <td>33.9</td>\n",
       "      <td>81.1</td>\n",
       "      <td>152.0</td>\n",
       "      <td>156.1</td>\n",
       "    </tr>\n",
       "    <tr>\n",
       "      <th>9</th>\n",
       "      <td>10</td>\n",
       "      <td>Katihar</td>\n",
       "      <td>India</td>\n",
       "      <td>88.8</td>\n",
       "      <td>224.1</td>\n",
       "      <td>113.3</td>\n",
       "      <td>94.0</td>\n",
       "      <td>74.1</td>\n",
       "      <td>49.9</td>\n",
       "      <td>34.7</td>\n",
       "      <td>17.700000</td>\n",
       "      <td>27.6</td>\n",
       "      <td>33.9</td>\n",
       "      <td>63.9</td>\n",
       "      <td>134.1</td>\n",
       "      <td>180.5</td>\n",
       "    </tr>\n",
       "    <tr>\n",
       "      <th>10</th>\n",
       "      <td>11</td>\n",
       "      <td>Greater Noida</td>\n",
       "      <td>India</td>\n",
       "      <td>88.6</td>\n",
       "      <td>166.5</td>\n",
       "      <td>85.9</td>\n",
       "      <td>64.4</td>\n",
       "      <td>69.2</td>\n",
       "      <td>59.5</td>\n",
       "      <td>42.9</td>\n",
       "      <td>28.100000</td>\n",
       "      <td>33.9</td>\n",
       "      <td>38.7</td>\n",
       "      <td>111.6</td>\n",
       "      <td>215.4</td>\n",
       "      <td>142.0</td>\n",
       "    </tr>\n",
       "    <tr>\n",
       "      <th>11</th>\n",
       "      <td>12</td>\n",
       "      <td>Faisalabad</td>\n",
       "      <td>Pakistan</td>\n",
       "      <td>88.2</td>\n",
       "      <td>92.0</td>\n",
       "      <td>106.5</td>\n",
       "      <td>66.5</td>\n",
       "      <td>44.5</td>\n",
       "      <td>42.9</td>\n",
       "      <td>43.8</td>\n",
       "      <td>14.068426</td>\n",
       "      <td>38.9</td>\n",
       "      <td>46.0</td>\n",
       "      <td>70.4</td>\n",
       "      <td>196.8</td>\n",
       "      <td>204.2</td>\n",
       "    </tr>\n",
       "    <tr>\n",
       "      <th>12</th>\n",
       "      <td>13</td>\n",
       "      <td>Hotan</td>\n",
       "      <td>China</td>\n",
       "      <td>87.3</td>\n",
       "      <td>95.0</td>\n",
       "      <td>63.9</td>\n",
       "      <td>99.9</td>\n",
       "      <td>133.4</td>\n",
       "      <td>88.2</td>\n",
       "      <td>97.1</td>\n",
       "      <td>81.500000</td>\n",
       "      <td>99.6</td>\n",
       "      <td>84.1</td>\n",
       "      <td>53.6</td>\n",
       "      <td>59.8</td>\n",
       "      <td>93.8</td>\n",
       "    </tr>\n",
       "    <tr>\n",
       "      <th>13</th>\n",
       "      <td>14</td>\n",
       "      <td>Bettiah</td>\n",
       "      <td>India</td>\n",
       "      <td>85.7</td>\n",
       "      <td>225.3</td>\n",
       "      <td>162.6</td>\n",
       "      <td>118.6</td>\n",
       "      <td>90.4</td>\n",
       "      <td>67.4</td>\n",
       "      <td>40.2</td>\n",
       "      <td>23.200000</td>\n",
       "      <td>32.4</td>\n",
       "      <td>31.2</td>\n",
       "      <td>49.0</td>\n",
       "      <td>97.6</td>\n",
       "      <td>78.7</td>\n",
       "    </tr>\n",
       "    <tr>\n",
       "      <th>14</th>\n",
       "      <td>15</td>\n",
       "      <td>Samastipur</td>\n",
       "      <td>India</td>\n",
       "      <td>85.3</td>\n",
       "      <td>200.6</td>\n",
       "      <td>154.5</td>\n",
       "      <td>103.0</td>\n",
       "      <td>81.4</td>\n",
       "      <td>66.4</td>\n",
       "      <td>43.0</td>\n",
       "      <td>26.900000</td>\n",
       "      <td>31.9</td>\n",
       "      <td>37.1</td>\n",
       "      <td>49.1</td>\n",
       "      <td>123.1</td>\n",
       "      <td>75.5</td>\n",
       "    </tr>\n",
       "    <tr>\n",
       "      <th>15</th>\n",
       "      <td>16</td>\n",
       "      <td>Muzaffarnagar</td>\n",
       "      <td>India</td>\n",
       "      <td>85.0</td>\n",
       "      <td>120.3</td>\n",
       "      <td>95.6</td>\n",
       "      <td>81.9</td>\n",
       "      <td>75.5</td>\n",
       "      <td>77.7</td>\n",
       "      <td>47.1</td>\n",
       "      <td>31.400000</td>\n",
       "      <td>41.7</td>\n",
       "      <td>53.7</td>\n",
       "      <td>100.9</td>\n",
       "      <td>122.2</td>\n",
       "      <td>156.5</td>\n",
       "    </tr>\n",
       "    <tr>\n",
       "      <th>16</th>\n",
       "      <td>17</td>\n",
       "      <td>Gurugram</td>\n",
       "      <td>India</td>\n",
       "      <td>84.0</td>\n",
       "      <td>125.9</td>\n",
       "      <td>73.7</td>\n",
       "      <td>64.3</td>\n",
       "      <td>74.2</td>\n",
       "      <td>75.3</td>\n",
       "      <td>56.1</td>\n",
       "      <td>39.800000</td>\n",
       "      <td>48.2</td>\n",
       "      <td>54.7</td>\n",
       "      <td>89.1</td>\n",
       "      <td>177.5</td>\n",
       "      <td>129.3</td>\n",
       "    </tr>\n",
       "    <tr>\n",
       "      <th>17</th>\n",
       "      <td>18</td>\n",
       "      <td>Arrah</td>\n",
       "      <td>India</td>\n",
       "      <td>83.6</td>\n",
       "      <td>155.4</td>\n",
       "      <td>103.7</td>\n",
       "      <td>84.6</td>\n",
       "      <td>63.7</td>\n",
       "      <td>63.3</td>\n",
       "      <td>52.5</td>\n",
       "      <td>50.700000</td>\n",
       "      <td>39.9</td>\n",
       "      <td>31.9</td>\n",
       "      <td>59.0</td>\n",
       "      <td>145.8</td>\n",
       "      <td>143.6</td>\n",
       "    </tr>\n",
       "    <tr>\n",
       "      <th>18</th>\n",
       "      <td>19</td>\n",
       "      <td>Dadri</td>\n",
       "      <td>India</td>\n",
       "      <td>83.6</td>\n",
       "      <td>140.4</td>\n",
       "      <td>73.6</td>\n",
       "      <td>52.3</td>\n",
       "      <td>46.5</td>\n",
       "      <td>41.7</td>\n",
       "      <td>30.0</td>\n",
       "      <td>23.400000</td>\n",
       "      <td>41.2</td>\n",
       "      <td>49.1</td>\n",
       "      <td>116.6</td>\n",
       "      <td>228.8</td>\n",
       "      <td>176.8</td>\n",
       "    </tr>\n",
       "    <tr>\n",
       "      <th>19</th>\n",
       "      <td>20</td>\n",
       "      <td>Patna</td>\n",
       "      <td>India</td>\n",
       "      <td>82.2</td>\n",
       "      <td>170.1</td>\n",
       "      <td>112.5</td>\n",
       "      <td>83.3</td>\n",
       "      <td>78.4</td>\n",
       "      <td>61.0</td>\n",
       "      <td>54.3</td>\n",
       "      <td>33.900000</td>\n",
       "      <td>38.0</td>\n",
       "      <td>34.2</td>\n",
       "      <td>61.0</td>\n",
       "      <td>138.5</td>\n",
       "      <td>124.6</td>\n",
       "    </tr>\n",
       "  </tbody>\n",
       "</table>\n",
       "</div>"
      ],
      "text/plain": [
       "    Rank           City   Country   2023    Jan    Feb    Mar    Apr    May  \\\n",
       "0      1      Begusarai     India  118.9   31.2  235.3  156.8  113.0  109.3   \n",
       "1      2       Guwahati     India  105.4  220.2  168.1  129.2  112.2   69.5   \n",
       "2      3          Delhi     India  102.1  171.8  114.3   77.4   71.0   67.4   \n",
       "3      4      Mullanpur     India  100.4  106.3  123.7   78.1   56.6   53.4   \n",
       "4      5         Lahore  Pakistan   99.5  143.2  117.3   73.8   52.9   52.4   \n",
       "5      6      New Delhi     India   92.7  162.6   98.2   67.1   59.0   57.7   \n",
       "6      7          Siwan     India   90.6  223.6  167.5  108.3   71.7   59.8   \n",
       "7      8        Saharsa     India   89.4  202.0  147.1  108.8   88.8   60.3   \n",
       "8      9    Goshaingaon     India   89.3  205.3  117.5   63.8   63.3   60.7   \n",
       "9     10        Katihar     India   88.8  224.1  113.3   94.0   74.1   49.9   \n",
       "10    11  Greater Noida     India   88.6  166.5   85.9   64.4   69.2   59.5   \n",
       "11    12     Faisalabad  Pakistan   88.2   92.0  106.5   66.5   44.5   42.9   \n",
       "12    13          Hotan     China   87.3   95.0   63.9   99.9  133.4   88.2   \n",
       "13    14        Bettiah     India   85.7  225.3  162.6  118.6   90.4   67.4   \n",
       "14    15     Samastipur     India   85.3  200.6  154.5  103.0   81.4   66.4   \n",
       "15    16  Muzaffarnagar     India   85.0  120.3   95.6   81.9   75.5   77.7   \n",
       "16    17       Gurugram     India   84.0  125.9   73.7   64.3   74.2   75.3   \n",
       "17    18          Arrah     India   83.6  155.4  103.7   84.6   63.7   63.3   \n",
       "18    19          Dadri     India   83.6  140.4   73.6   52.3   46.5   41.7   \n",
       "19    20          Patna     India   82.2  170.1  112.5   83.3   78.4   61.0   \n",
       "\n",
       "     Jun        Jul   Aug   Sep    Oct    Nov    Dec  \n",
       "0   99.0  63.800000  61.8  71.5   61.8  210.5  285.0  \n",
       "1   51.3  46.600000  60.2  76.7   76.4  126.9  128.0  \n",
       "2   42.9  35.300000  34.8  39.7  106.3  255.1  210.0  \n",
       "3   53.9  63.200000  59.7  59.6  110.4  253.0  201.4  \n",
       "4   46.4  39.800000  42.2  53.8  125.9  251.0  197.5  \n",
       "5   40.1  31.700000  35.0  38.0   94.7  234.7  193.8  \n",
       "6   48.9  35.700000  30.4  54.7   48.9  136.3   77.6  \n",
       "7   43.6  16.700000  24.3  33.6   41.8  115.8  167.8  \n",
       "8   39.2  27.300000  38.3  33.9   81.1  152.0  156.1  \n",
       "9   34.7  17.700000  27.6  33.9   63.9  134.1  180.5  \n",
       "10  42.9  28.100000  33.9  38.7  111.6  215.4  142.0  \n",
       "11  43.8  14.068426  38.9  46.0   70.4  196.8  204.2  \n",
       "12  97.1  81.500000  99.6  84.1   53.6   59.8   93.8  \n",
       "13  40.2  23.200000  32.4  31.2   49.0   97.6   78.7  \n",
       "14  43.0  26.900000  31.9  37.1   49.1  123.1   75.5  \n",
       "15  47.1  31.400000  41.7  53.7  100.9  122.2  156.5  \n",
       "16  56.1  39.800000  48.2  54.7   89.1  177.5  129.3  \n",
       "17  52.5  50.700000  39.9  31.9   59.0  145.8  143.6  \n",
       "18  30.0  23.400000  41.2  49.1  116.6  228.8  176.8  \n",
       "19  54.3  33.900000  38.0  34.2   61.0  138.5  124.6  "
      ]
     },
     "execution_count": 8,
     "metadata": {},
     "output_type": "execute_result"
    }
   ],
   "source": [
    "df.head(20)"
   ]
  },
  {
   "cell_type": "code",
   "execution_count": 9,
   "id": "d11e3696",
   "metadata": {},
   "outputs": [
    {
     "data": {
      "text/html": [
       "<div>\n",
       "<style scoped>\n",
       "    .dataframe tbody tr th:only-of-type {\n",
       "        vertical-align: middle;\n",
       "    }\n",
       "\n",
       "    .dataframe tbody tr th {\n",
       "        vertical-align: top;\n",
       "    }\n",
       "\n",
       "    .dataframe thead th {\n",
       "        text-align: right;\n",
       "    }\n",
       "</style>\n",
       "<table border=\"1\" class=\"dataframe\">\n",
       "  <thead>\n",
       "    <tr style=\"text-align: right;\">\n",
       "      <th></th>\n",
       "      <th>Rank</th>\n",
       "      <th>2023</th>\n",
       "      <th>Jan</th>\n",
       "      <th>Feb</th>\n",
       "      <th>Mar</th>\n",
       "      <th>Apr</th>\n",
       "      <th>May</th>\n",
       "      <th>Jun</th>\n",
       "      <th>Jul</th>\n",
       "      <th>Aug</th>\n",
       "      <th>Sep</th>\n",
       "      <th>Oct</th>\n",
       "      <th>Nov</th>\n",
       "      <th>Dec</th>\n",
       "    </tr>\n",
       "  </thead>\n",
       "  <tbody>\n",
       "    <tr>\n",
       "      <th>count</th>\n",
       "      <td>2164.000000</td>\n",
       "      <td>2164.000000</td>\n",
       "      <td>2164.000000</td>\n",
       "      <td>2164.000000</td>\n",
       "      <td>2164.000000</td>\n",
       "      <td>2164.000000</td>\n",
       "      <td>2164.000000</td>\n",
       "      <td>2164.000000</td>\n",
       "      <td>2164.000000</td>\n",
       "      <td>2164.000000</td>\n",
       "      <td>2164.000000</td>\n",
       "      <td>2164.000000</td>\n",
       "      <td>2164.000000</td>\n",
       "      <td>2164.000000</td>\n",
       "    </tr>\n",
       "    <tr>\n",
       "      <th>mean</th>\n",
       "      <td>1082.500000</td>\n",
       "      <td>23.196811</td>\n",
       "      <td>34.433462</td>\n",
       "      <td>30.304147</td>\n",
       "      <td>29.213468</td>\n",
       "      <td>27.340510</td>\n",
       "      <td>19.556363</td>\n",
       "      <td>15.804727</td>\n",
       "      <td>14.068426</td>\n",
       "      <td>14.732699</td>\n",
       "      <td>15.476777</td>\n",
       "      <td>21.324051</td>\n",
       "      <td>27.730005</td>\n",
       "      <td>30.366872</td>\n",
       "    </tr>\n",
       "    <tr>\n",
       "      <th>std</th>\n",
       "      <td>624.837312</td>\n",
       "      <td>16.075976</td>\n",
       "      <td>33.013824</td>\n",
       "      <td>24.732518</td>\n",
       "      <td>22.827612</td>\n",
       "      <td>22.294342</td>\n",
       "      <td>11.800626</td>\n",
       "      <td>9.490754</td>\n",
       "      <td>8.553461</td>\n",
       "      <td>10.188459</td>\n",
       "      <td>11.128637</td>\n",
       "      <td>17.482558</td>\n",
       "      <td>30.138818</td>\n",
       "      <td>29.061788</td>\n",
       "    </tr>\n",
       "    <tr>\n",
       "      <th>min</th>\n",
       "      <td>1.000000</td>\n",
       "      <td>1.500000</td>\n",
       "      <td>0.900000</td>\n",
       "      <td>0.800000</td>\n",
       "      <td>1.400000</td>\n",
       "      <td>1.400000</td>\n",
       "      <td>1.500000</td>\n",
       "      <td>1.500000</td>\n",
       "      <td>1.200000</td>\n",
       "      <td>1.500000</td>\n",
       "      <td>1.100000</td>\n",
       "      <td>1.000000</td>\n",
       "      <td>0.000000</td>\n",
       "      <td>1.000000</td>\n",
       "    </tr>\n",
       "    <tr>\n",
       "      <th>25%</th>\n",
       "      <td>541.750000</td>\n",
       "      <td>10.100000</td>\n",
       "      <td>10.300000</td>\n",
       "      <td>9.900000</td>\n",
       "      <td>12.175000</td>\n",
       "      <td>12.700000</td>\n",
       "      <td>10.200000</td>\n",
       "      <td>9.700000</td>\n",
       "      <td>9.100000</td>\n",
       "      <td>7.500000</td>\n",
       "      <td>7.700000</td>\n",
       "      <td>8.400000</td>\n",
       "      <td>10.300000</td>\n",
       "      <td>9.800000</td>\n",
       "    </tr>\n",
       "    <tr>\n",
       "      <th>50%</th>\n",
       "      <td>1082.500000</td>\n",
       "      <td>19.100000</td>\n",
       "      <td>25.200000</td>\n",
       "      <td>24.500000</td>\n",
       "      <td>23.200000</td>\n",
       "      <td>20.400000</td>\n",
       "      <td>17.850000</td>\n",
       "      <td>12.700000</td>\n",
       "      <td>11.500000</td>\n",
       "      <td>11.900000</td>\n",
       "      <td>11.900000</td>\n",
       "      <td>16.100000</td>\n",
       "      <td>18.700000</td>\n",
       "      <td>21.300000</td>\n",
       "    </tr>\n",
       "    <tr>\n",
       "      <th>75%</th>\n",
       "      <td>1623.250000</td>\n",
       "      <td>31.200000</td>\n",
       "      <td>44.500000</td>\n",
       "      <td>42.500000</td>\n",
       "      <td>39.450000</td>\n",
       "      <td>35.225000</td>\n",
       "      <td>24.900000</td>\n",
       "      <td>19.400000</td>\n",
       "      <td>16.700000</td>\n",
       "      <td>18.700000</td>\n",
       "      <td>20.100000</td>\n",
       "      <td>27.800000</td>\n",
       "      <td>32.100000</td>\n",
       "      <td>40.325000</td>\n",
       "    </tr>\n",
       "    <tr>\n",
       "      <th>max</th>\n",
       "      <td>2164.000000</td>\n",
       "      <td>118.900000</td>\n",
       "      <td>225.300000</td>\n",
       "      <td>235.300000</td>\n",
       "      <td>252.500000</td>\n",
       "      <td>232.000000</td>\n",
       "      <td>109.300000</td>\n",
       "      <td>99.000000</td>\n",
       "      <td>88.900000</td>\n",
       "      <td>99.600000</td>\n",
       "      <td>155.400000</td>\n",
       "      <td>156.000000</td>\n",
       "      <td>255.100000</td>\n",
       "      <td>285.000000</td>\n",
       "    </tr>\n",
       "  </tbody>\n",
       "</table>\n",
       "</div>"
      ],
      "text/plain": [
       "              Rank         2023          Jan          Feb          Mar  \\\n",
       "count  2164.000000  2164.000000  2164.000000  2164.000000  2164.000000   \n",
       "mean   1082.500000    23.196811    34.433462    30.304147    29.213468   \n",
       "std     624.837312    16.075976    33.013824    24.732518    22.827612   \n",
       "min       1.000000     1.500000     0.900000     0.800000     1.400000   \n",
       "25%     541.750000    10.100000    10.300000     9.900000    12.175000   \n",
       "50%    1082.500000    19.100000    25.200000    24.500000    23.200000   \n",
       "75%    1623.250000    31.200000    44.500000    42.500000    39.450000   \n",
       "max    2164.000000   118.900000   225.300000   235.300000   252.500000   \n",
       "\n",
       "               Apr          May          Jun          Jul          Aug  \\\n",
       "count  2164.000000  2164.000000  2164.000000  2164.000000  2164.000000   \n",
       "mean     27.340510    19.556363    15.804727    14.068426    14.732699   \n",
       "std      22.294342    11.800626     9.490754     8.553461    10.188459   \n",
       "min       1.400000     1.500000     1.500000     1.200000     1.500000   \n",
       "25%      12.700000    10.200000     9.700000     9.100000     7.500000   \n",
       "50%      20.400000    17.850000    12.700000    11.500000    11.900000   \n",
       "75%      35.225000    24.900000    19.400000    16.700000    18.700000   \n",
       "max     232.000000   109.300000    99.000000    88.900000    99.600000   \n",
       "\n",
       "               Sep          Oct          Nov          Dec  \n",
       "count  2164.000000  2164.000000  2164.000000  2164.000000  \n",
       "mean     15.476777    21.324051    27.730005    30.366872  \n",
       "std      11.128637    17.482558    30.138818    29.061788  \n",
       "min       1.100000     1.000000     0.000000     1.000000  \n",
       "25%       7.700000     8.400000    10.300000     9.800000  \n",
       "50%      11.900000    16.100000    18.700000    21.300000  \n",
       "75%      20.100000    27.800000    32.100000    40.325000  \n",
       "max     155.400000   156.000000   255.100000   285.000000  "
      ]
     },
     "execution_count": 9,
     "metadata": {},
     "output_type": "execute_result"
    }
   ],
   "source": [
    "df.duplicated().sum()\n",
    "#checking for duplicates\n",
    "df.describe()\n"
   ]
  },
  {
   "cell_type": "code",
   "execution_count": 10,
   "id": "fde13b49",
   "metadata": {},
   "outputs": [
    {
     "name": "stdout",
     "output_type": "stream",
     "text": [
      "(2164, 14)\n",
      "(2164, 3)\n"
     ]
    }
   ],
   "source": [
    "num_col = df.select_dtypes(exclude='object')\n",
    "cat_col = df.select_dtypes(include='object')\n",
    "cat_col[\"2023\"] = df[\"2023\"]\n",
    "print(num_col.shape)\n",
    "print(cat_col.shape)"
   ]
  },
  {
   "cell_type": "code",
   "execution_count": 11,
   "id": "4bcc3c9f",
   "metadata": {},
   "outputs": [
    {
     "data": {
      "text/html": [
       "<div>\n",
       "<style scoped>\n",
       "    .dataframe tbody tr th:only-of-type {\n",
       "        vertical-align: middle;\n",
       "    }\n",
       "\n",
       "    .dataframe tbody tr th {\n",
       "        vertical-align: top;\n",
       "    }\n",
       "\n",
       "    .dataframe thead th {\n",
       "        text-align: right;\n",
       "    }\n",
       "</style>\n",
       "<table border=\"1\" class=\"dataframe\">\n",
       "  <thead>\n",
       "    <tr style=\"text-align: right;\">\n",
       "      <th></th>\n",
       "      <th>Rank</th>\n",
       "      <th>2023</th>\n",
       "      <th>Jan</th>\n",
       "      <th>Feb</th>\n",
       "      <th>Mar</th>\n",
       "      <th>Apr</th>\n",
       "      <th>May</th>\n",
       "      <th>Jun</th>\n",
       "      <th>Jul</th>\n",
       "      <th>Aug</th>\n",
       "      <th>Sep</th>\n",
       "      <th>Oct</th>\n",
       "      <th>Nov</th>\n",
       "      <th>Dec</th>\n",
       "    </tr>\n",
       "  </thead>\n",
       "  <tbody>\n",
       "    <tr>\n",
       "      <th>min</th>\n",
       "      <td>1.0</td>\n",
       "      <td>1.5</td>\n",
       "      <td>0.9</td>\n",
       "      <td>0.8</td>\n",
       "      <td>1.4</td>\n",
       "      <td>1.4</td>\n",
       "      <td>1.5</td>\n",
       "      <td>1.5</td>\n",
       "      <td>1.2</td>\n",
       "      <td>1.5</td>\n",
       "      <td>1.1</td>\n",
       "      <td>1.0</td>\n",
       "      <td>0.0</td>\n",
       "      <td>1.0</td>\n",
       "    </tr>\n",
       "    <tr>\n",
       "      <th>max</th>\n",
       "      <td>2164.0</td>\n",
       "      <td>118.9</td>\n",
       "      <td>225.3</td>\n",
       "      <td>235.3</td>\n",
       "      <td>252.5</td>\n",
       "      <td>232.0</td>\n",
       "      <td>109.3</td>\n",
       "      <td>99.0</td>\n",
       "      <td>88.9</td>\n",
       "      <td>99.6</td>\n",
       "      <td>155.4</td>\n",
       "      <td>156.0</td>\n",
       "      <td>255.1</td>\n",
       "      <td>285.0</td>\n",
       "    </tr>\n",
       "  </tbody>\n",
       "</table>\n",
       "</div>"
      ],
      "text/plain": [
       "       Rank   2023    Jan    Feb    Mar    Apr    May   Jun   Jul   Aug  \\\n",
       "min     1.0    1.5    0.9    0.8    1.4    1.4    1.5   1.5   1.2   1.5   \n",
       "max  2164.0  118.9  225.3  235.3  252.5  232.0  109.3  99.0  88.9  99.6   \n",
       "\n",
       "       Sep    Oct    Nov    Dec  \n",
       "min    1.1    1.0    0.0    1.0  \n",
       "max  155.4  156.0  255.1  285.0  "
      ]
     },
     "execution_count": 11,
     "metadata": {},
     "output_type": "execute_result"
    }
   ],
   "source": [
    "num_col.describe().loc[[\"min\",\"max\"],:]#checking minimal and maximum values\n",
    "\n"
   ]
  },
  {
   "cell_type": "code",
   "execution_count": 12,
   "id": "6e5c3f07",
   "metadata": {},
   "outputs": [
    {
     "data": {
      "text/html": [
       "<div>\n",
       "<style scoped>\n",
       "    .dataframe tbody tr th:only-of-type {\n",
       "        vertical-align: middle;\n",
       "    }\n",
       "\n",
       "    .dataframe tbody tr th {\n",
       "        vertical-align: top;\n",
       "    }\n",
       "\n",
       "    .dataframe thead th {\n",
       "        text-align: right;\n",
       "    }\n",
       "</style>\n",
       "<table border=\"1\" class=\"dataframe\">\n",
       "  <thead>\n",
       "    <tr style=\"text-align: right;\">\n",
       "      <th></th>\n",
       "      <th>Rank</th>\n",
       "      <th>City</th>\n",
       "      <th>Country</th>\n",
       "      <th>2023</th>\n",
       "      <th>Jan</th>\n",
       "      <th>Feb</th>\n",
       "      <th>Mar</th>\n",
       "      <th>Apr</th>\n",
       "      <th>May</th>\n",
       "      <th>Jun</th>\n",
       "      <th>Jul</th>\n",
       "      <th>Aug</th>\n",
       "      <th>Sep</th>\n",
       "      <th>Oct</th>\n",
       "      <th>Nov</th>\n",
       "      <th>Dec</th>\n",
       "    </tr>\n",
       "  </thead>\n",
       "  <tbody>\n",
       "    <tr>\n",
       "      <th>1143</th>\n",
       "      <td>1144</td>\n",
       "      <td>Ashdod</td>\n",
       "      <td>Israel</td>\n",
       "      <td>18.1</td>\n",
       "      <td>19.7</td>\n",
       "      <td>16.1</td>\n",
       "      <td>16.6</td>\n",
       "      <td>17.4</td>\n",
       "      <td>29.7</td>\n",
       "      <td>25.9</td>\n",
       "      <td>21.7</td>\n",
       "      <td>15.4</td>\n",
       "      <td>16.300000</td>\n",
       "      <td>16.5</td>\n",
       "      <td>16.4</td>\n",
       "      <td>17.4</td>\n",
       "    </tr>\n",
       "    <tr>\n",
       "      <th>1255</th>\n",
       "      <td>1256</td>\n",
       "      <td>Ashdod</td>\n",
       "      <td>Israel</td>\n",
       "      <td>16.1</td>\n",
       "      <td>16.4</td>\n",
       "      <td>13.3</td>\n",
       "      <td>15.0</td>\n",
       "      <td>14.4</td>\n",
       "      <td>19.1</td>\n",
       "      <td>15.1</td>\n",
       "      <td>15.7</td>\n",
       "      <td>14.4</td>\n",
       "      <td>16.000000</td>\n",
       "      <td>16.1</td>\n",
       "      <td>18.4</td>\n",
       "      <td>19.1</td>\n",
       "    </tr>\n",
       "    <tr>\n",
       "      <th>753</th>\n",
       "      <td>754</td>\n",
       "      <td>Ban Mai</td>\n",
       "      <td>Thailand</td>\n",
       "      <td>25.6</td>\n",
       "      <td>17.4</td>\n",
       "      <td>39.5</td>\n",
       "      <td>48.0</td>\n",
       "      <td>46.9</td>\n",
       "      <td>18.3</td>\n",
       "      <td>11.0</td>\n",
       "      <td>8.9</td>\n",
       "      <td>13.8</td>\n",
       "      <td>15.476777</td>\n",
       "      <td>24.7</td>\n",
       "      <td>21.7</td>\n",
       "      <td>22.5</td>\n",
       "    </tr>\n",
       "    <tr>\n",
       "      <th>1155</th>\n",
       "      <td>1156</td>\n",
       "      <td>Ban Mai</td>\n",
       "      <td>Thailand</td>\n",
       "      <td>18.0</td>\n",
       "      <td>28.9</td>\n",
       "      <td>28.6</td>\n",
       "      <td>37.5</td>\n",
       "      <td>35.6</td>\n",
       "      <td>16.4</td>\n",
       "      <td>5.4</td>\n",
       "      <td>4.0</td>\n",
       "      <td>5.2</td>\n",
       "      <td>4.800000</td>\n",
       "      <td>13.7</td>\n",
       "      <td>14.8</td>\n",
       "      <td>21.4</td>\n",
       "    </tr>\n",
       "    <tr>\n",
       "      <th>830</th>\n",
       "      <td>831</td>\n",
       "      <td>Ban Pong</td>\n",
       "      <td>Thailand</td>\n",
       "      <td>23.7</td>\n",
       "      <td>18.6</td>\n",
       "      <td>40.1</td>\n",
       "      <td>74.5</td>\n",
       "      <td>75.8</td>\n",
       "      <td>16.6</td>\n",
       "      <td>4.6</td>\n",
       "      <td>2.6</td>\n",
       "      <td>4.2</td>\n",
       "      <td>3.200000</td>\n",
       "      <td>4.6</td>\n",
       "      <td>9.9</td>\n",
       "      <td>15.8</td>\n",
       "    </tr>\n",
       "    <tr>\n",
       "      <th>...</th>\n",
       "      <td>...</td>\n",
       "      <td>...</td>\n",
       "      <td>...</td>\n",
       "      <td>...</td>\n",
       "      <td>...</td>\n",
       "      <td>...</td>\n",
       "      <td>...</td>\n",
       "      <td>...</td>\n",
       "      <td>...</td>\n",
       "      <td>...</td>\n",
       "      <td>...</td>\n",
       "      <td>...</td>\n",
       "      <td>...</td>\n",
       "      <td>...</td>\n",
       "      <td>...</td>\n",
       "      <td>...</td>\n",
       "    </tr>\n",
       "    <tr>\n",
       "      <th>1934</th>\n",
       "      <td>1935</td>\n",
       "      <td>Yamagata</td>\n",
       "      <td>Japan</td>\n",
       "      <td>8.5</td>\n",
       "      <td>6.8</td>\n",
       "      <td>7.6</td>\n",
       "      <td>12.2</td>\n",
       "      <td>11.3</td>\n",
       "      <td>9.9</td>\n",
       "      <td>8.3</td>\n",
       "      <td>10.2</td>\n",
       "      <td>8.9</td>\n",
       "      <td>7.600000</td>\n",
       "      <td>6.4</td>\n",
       "      <td>7.2</td>\n",
       "      <td>5.2</td>\n",
       "    </tr>\n",
       "    <tr>\n",
       "      <th>597</th>\n",
       "      <td>598</td>\n",
       "      <td>Yichun</td>\n",
       "      <td>China</td>\n",
       "      <td>29.4</td>\n",
       "      <td>48.8</td>\n",
       "      <td>34.3</td>\n",
       "      <td>34.1</td>\n",
       "      <td>25.0</td>\n",
       "      <td>25.7</td>\n",
       "      <td>20.7</td>\n",
       "      <td>16.0</td>\n",
       "      <td>21.9</td>\n",
       "      <td>22.900000</td>\n",
       "      <td>32.5</td>\n",
       "      <td>31.4</td>\n",
       "      <td>40.2</td>\n",
       "    </tr>\n",
       "    <tr>\n",
       "      <th>848</th>\n",
       "      <td>849</td>\n",
       "      <td>Yichun</td>\n",
       "      <td>China</td>\n",
       "      <td>23.2</td>\n",
       "      <td>45.9</td>\n",
       "      <td>40.4</td>\n",
       "      <td>31.0</td>\n",
       "      <td>24.2</td>\n",
       "      <td>14.6</td>\n",
       "      <td>9.4</td>\n",
       "      <td>9.8</td>\n",
       "      <td>8.1</td>\n",
       "      <td>9.600000</td>\n",
       "      <td>16.1</td>\n",
       "      <td>28.1</td>\n",
       "      <td>40.9</td>\n",
       "    </tr>\n",
       "    <tr>\n",
       "      <th>722</th>\n",
       "      <td>723</td>\n",
       "      <td>Yulin</td>\n",
       "      <td>China</td>\n",
       "      <td>26.4</td>\n",
       "      <td>39.9</td>\n",
       "      <td>35.1</td>\n",
       "      <td>36.8</td>\n",
       "      <td>29.0</td>\n",
       "      <td>23.5</td>\n",
       "      <td>17.4</td>\n",
       "      <td>17.0</td>\n",
       "      <td>14.1</td>\n",
       "      <td>15.300000</td>\n",
       "      <td>21.8</td>\n",
       "      <td>34.6</td>\n",
       "      <td>32.4</td>\n",
       "    </tr>\n",
       "    <tr>\n",
       "      <th>631</th>\n",
       "      <td>632</td>\n",
       "      <td>Yulin</td>\n",
       "      <td>China</td>\n",
       "      <td>28.6</td>\n",
       "      <td>39.8</td>\n",
       "      <td>39.5</td>\n",
       "      <td>42.1</td>\n",
       "      <td>47.0</td>\n",
       "      <td>26.6</td>\n",
       "      <td>16.1</td>\n",
       "      <td>15.1</td>\n",
       "      <td>17.3</td>\n",
       "      <td>18.700000</td>\n",
       "      <td>21.0</td>\n",
       "      <td>21.7</td>\n",
       "      <td>40.4</td>\n",
       "    </tr>\n",
       "  </tbody>\n",
       "</table>\n",
       "<p>104 rows × 16 columns</p>\n",
       "</div>"
      ],
      "text/plain": [
       "      Rank      City   Country  2023   Jan   Feb   Mar   Apr   May   Jun  \\\n",
       "1143  1144    Ashdod    Israel  18.1  19.7  16.1  16.6  17.4  29.7  25.9   \n",
       "1255  1256    Ashdod    Israel  16.1  16.4  13.3  15.0  14.4  19.1  15.1   \n",
       "753    754   Ban Mai  Thailand  25.6  17.4  39.5  48.0  46.9  18.3  11.0   \n",
       "1155  1156   Ban Mai  Thailand  18.0  28.9  28.6  37.5  35.6  16.4   5.4   \n",
       "830    831  Ban Pong  Thailand  23.7  18.6  40.1  74.5  75.8  16.6   4.6   \n",
       "...    ...       ...       ...   ...   ...   ...   ...   ...   ...   ...   \n",
       "1934  1935  Yamagata     Japan   8.5   6.8   7.6  12.2  11.3   9.9   8.3   \n",
       "597    598    Yichun     China  29.4  48.8  34.3  34.1  25.0  25.7  20.7   \n",
       "848    849    Yichun     China  23.2  45.9  40.4  31.0  24.2  14.6   9.4   \n",
       "722    723     Yulin     China  26.4  39.9  35.1  36.8  29.0  23.5  17.4   \n",
       "631    632     Yulin     China  28.6  39.8  39.5  42.1  47.0  26.6  16.1   \n",
       "\n",
       "       Jul   Aug        Sep   Oct   Nov   Dec  \n",
       "1143  21.7  15.4  16.300000  16.5  16.4  17.4  \n",
       "1255  15.7  14.4  16.000000  16.1  18.4  19.1  \n",
       "753    8.9  13.8  15.476777  24.7  21.7  22.5  \n",
       "1155   4.0   5.2   4.800000  13.7  14.8  21.4  \n",
       "830    2.6   4.2   3.200000   4.6   9.9  15.8  \n",
       "...    ...   ...        ...   ...   ...   ...  \n",
       "1934  10.2   8.9   7.600000   6.4   7.2   5.2  \n",
       "597   16.0  21.9  22.900000  32.5  31.4  40.2  \n",
       "848    9.8   8.1   9.600000  16.1  28.1  40.9  \n",
       "722   17.0  14.1  15.300000  21.8  34.6  32.4  \n",
       "631   15.1  17.3  18.700000  21.0  21.7  40.4  \n",
       "\n",
       "[104 rows x 16 columns]"
      ]
     },
     "execution_count": 12,
     "metadata": {},
     "output_type": "execute_result"
    }
   ],
   "source": [
    "df[df[['City','Country']].duplicated(keep=False)].sort_values(\"City\")#check for duplicates\n"
   ]
  },
  {
   "cell_type": "markdown",
   "id": "e92148e5",
   "metadata": {},
   "source": [
    "We have more than 104 rows that contains duplicate cities of same country. So we need to get rid of duplicates"
   ]
  },
  {
   "cell_type": "code",
   "execution_count": 13,
   "id": "3fb4c62d",
   "metadata": {},
   "outputs": [],
   "source": [
    "df.drop_duplicates(subset=['City','Country'],keep='first',inplace=True)\n",
    "\n",
    "\n"
   ]
  },
  {
   "cell_type": "code",
   "execution_count": 14,
   "id": "a42c3510",
   "metadata": {},
   "outputs": [
    {
     "data": {
      "text/html": [
       "<div>\n",
       "<style scoped>\n",
       "    .dataframe tbody tr th:only-of-type {\n",
       "        vertical-align: middle;\n",
       "    }\n",
       "\n",
       "    .dataframe tbody tr th {\n",
       "        vertical-align: top;\n",
       "    }\n",
       "\n",
       "    .dataframe thead th {\n",
       "        text-align: right;\n",
       "    }\n",
       "</style>\n",
       "<table border=\"1\" class=\"dataframe\">\n",
       "  <thead>\n",
       "    <tr style=\"text-align: right;\">\n",
       "      <th></th>\n",
       "      <th>Rank</th>\n",
       "      <th>City</th>\n",
       "      <th>Country</th>\n",
       "      <th>2023</th>\n",
       "      <th>Jan</th>\n",
       "      <th>Feb</th>\n",
       "      <th>Mar</th>\n",
       "      <th>Apr</th>\n",
       "      <th>May</th>\n",
       "      <th>Jun</th>\n",
       "      <th>Jul</th>\n",
       "      <th>Aug</th>\n",
       "      <th>Sep</th>\n",
       "      <th>Oct</th>\n",
       "      <th>Nov</th>\n",
       "      <th>Dec</th>\n",
       "    </tr>\n",
       "  </thead>\n",
       "  <tbody>\n",
       "    <tr>\n",
       "      <th>125</th>\n",
       "      <td>126</td>\n",
       "      <td>Anyang</td>\n",
       "      <td>China</td>\n",
       "      <td>50.6</td>\n",
       "      <td>90.4</td>\n",
       "      <td>83.8</td>\n",
       "      <td>63.8</td>\n",
       "      <td>52.1</td>\n",
       "      <td>30.5</td>\n",
       "      <td>21.7</td>\n",
       "      <td>22.0</td>\n",
       "      <td>25.0</td>\n",
       "      <td>28.6</td>\n",
       "      <td>50.6</td>\n",
       "      <td>61.4</td>\n",
       "      <td>77.7</td>\n",
       "    </tr>\n",
       "    <tr>\n",
       "      <th>1006</th>\n",
       "      <td>1007</td>\n",
       "      <td>Anyang</td>\n",
       "      <td>South Korea</td>\n",
       "      <td>20.3</td>\n",
       "      <td>25.9</td>\n",
       "      <td>32.8</td>\n",
       "      <td>32.2</td>\n",
       "      <td>20.9</td>\n",
       "      <td>19.5</td>\n",
       "      <td>18.0</td>\n",
       "      <td>15.1</td>\n",
       "      <td>12.6</td>\n",
       "      <td>12.8</td>\n",
       "      <td>17.8</td>\n",
       "      <td>18.5</td>\n",
       "      <td>19.5</td>\n",
       "    </tr>\n",
       "    <tr>\n",
       "      <th>1378</th>\n",
       "      <td>1379</td>\n",
       "      <td>Golog</td>\n",
       "      <td>China</td>\n",
       "      <td>13.4</td>\n",
       "      <td>19.0</td>\n",
       "      <td>17.5</td>\n",
       "      <td>17.1</td>\n",
       "      <td>16.9</td>\n",
       "      <td>12.5</td>\n",
       "      <td>11.0</td>\n",
       "      <td>10.3</td>\n",
       "      <td>10.0</td>\n",
       "      <td>10.3</td>\n",
       "      <td>11.4</td>\n",
       "      <td>12.3</td>\n",
       "      <td>13.1</td>\n",
       "    </tr>\n",
       "    <tr>\n",
       "      <th>1417</th>\n",
       "      <td>1418</td>\n",
       "      <td>Golog</td>\n",
       "      <td>China, China</td>\n",
       "      <td>12.6</td>\n",
       "      <td>19.7</td>\n",
       "      <td>19.9</td>\n",
       "      <td>14.8</td>\n",
       "      <td>12.1</td>\n",
       "      <td>10.1</td>\n",
       "      <td>9.9</td>\n",
       "      <td>8.8</td>\n",
       "      <td>8.5</td>\n",
       "      <td>9.5</td>\n",
       "      <td>9.5</td>\n",
       "      <td>11.6</td>\n",
       "      <td>12.9</td>\n",
       "    </tr>\n",
       "    <tr>\n",
       "      <th>593</th>\n",
       "      <td>594</td>\n",
       "      <td>Kochi</td>\n",
       "      <td>India</td>\n",
       "      <td>29.5</td>\n",
       "      <td>35.0</td>\n",
       "      <td>31.4</td>\n",
       "      <td>43.3</td>\n",
       "      <td>33.5</td>\n",
       "      <td>35.7</td>\n",
       "      <td>31.1</td>\n",
       "      <td>29.6</td>\n",
       "      <td>28.4</td>\n",
       "      <td>19.4</td>\n",
       "      <td>24.0</td>\n",
       "      <td>25.5</td>\n",
       "      <td>13.7</td>\n",
       "    </tr>\n",
       "    <tr>\n",
       "      <th>1591</th>\n",
       "      <td>1592</td>\n",
       "      <td>Kochi</td>\n",
       "      <td>Japan</td>\n",
       "      <td>10.4</td>\n",
       "      <td>9.6</td>\n",
       "      <td>7.4</td>\n",
       "      <td>11.0</td>\n",
       "      <td>13.7</td>\n",
       "      <td>10.8</td>\n",
       "      <td>13.0</td>\n",
       "      <td>11.9</td>\n",
       "      <td>8.5</td>\n",
       "      <td>9.6</td>\n",
       "      <td>10.4</td>\n",
       "      <td>10.3</td>\n",
       "      <td>8.6</td>\n",
       "    </tr>\n",
       "    <tr>\n",
       "      <th>1264</th>\n",
       "      <td>1265</td>\n",
       "      <td>Shima</td>\n",
       "      <td>China</td>\n",
       "      <td>15.8</td>\n",
       "      <td>21.0</td>\n",
       "      <td>26.2</td>\n",
       "      <td>27.4</td>\n",
       "      <td>20.6</td>\n",
       "      <td>16.0</td>\n",
       "      <td>8.9</td>\n",
       "      <td>3.4</td>\n",
       "      <td>5.1</td>\n",
       "      <td>7.9</td>\n",
       "      <td>13.6</td>\n",
       "      <td>19.1</td>\n",
       "      <td>21.3</td>\n",
       "    </tr>\n",
       "    <tr>\n",
       "      <th>2123</th>\n",
       "      <td>2124</td>\n",
       "      <td>Shima</td>\n",
       "      <td>Japan</td>\n",
       "      <td>6.9</td>\n",
       "      <td>5.6</td>\n",
       "      <td>5.3</td>\n",
       "      <td>7.2</td>\n",
       "      <td>10.0</td>\n",
       "      <td>7.2</td>\n",
       "      <td>8.2</td>\n",
       "      <td>7.6</td>\n",
       "      <td>5.9</td>\n",
       "      <td>6.0</td>\n",
       "      <td>6.3</td>\n",
       "      <td>7.3</td>\n",
       "      <td>6.4</td>\n",
       "    </tr>\n",
       "    <tr>\n",
       "      <th>1075</th>\n",
       "      <td>1076</td>\n",
       "      <td>Zhuhai</td>\n",
       "      <td>Macao SAR</td>\n",
       "      <td>19.2</td>\n",
       "      <td>24.9</td>\n",
       "      <td>23.3</td>\n",
       "      <td>23.1</td>\n",
       "      <td>25.9</td>\n",
       "      <td>23.0</td>\n",
       "      <td>8.9</td>\n",
       "      <td>9.8</td>\n",
       "      <td>11.0</td>\n",
       "      <td>10.7</td>\n",
       "      <td>19.6</td>\n",
       "      <td>22.9</td>\n",
       "      <td>28.1</td>\n",
       "    </tr>\n",
       "    <tr>\n",
       "      <th>1172</th>\n",
       "      <td>1173</td>\n",
       "      <td>Zhuhai</td>\n",
       "      <td>China</td>\n",
       "      <td>17.7</td>\n",
       "      <td>25.1</td>\n",
       "      <td>21.0</td>\n",
       "      <td>21.9</td>\n",
       "      <td>19.5</td>\n",
       "      <td>18.0</td>\n",
       "      <td>8.5</td>\n",
       "      <td>7.9</td>\n",
       "      <td>9.3</td>\n",
       "      <td>9.6</td>\n",
       "      <td>18.2</td>\n",
       "      <td>23.1</td>\n",
       "      <td>28.9</td>\n",
       "    </tr>\n",
       "  </tbody>\n",
       "</table>\n",
       "</div>"
      ],
      "text/plain": [
       "      Rank    City       Country  2023   Jan   Feb   Mar   Apr   May   Jun  \\\n",
       "125    126  Anyang         China  50.6  90.4  83.8  63.8  52.1  30.5  21.7   \n",
       "1006  1007  Anyang   South Korea  20.3  25.9  32.8  32.2  20.9  19.5  18.0   \n",
       "1378  1379   Golog         China  13.4  19.0  17.5  17.1  16.9  12.5  11.0   \n",
       "1417  1418   Golog  China, China  12.6  19.7  19.9  14.8  12.1  10.1   9.9   \n",
       "593    594   Kochi         India  29.5  35.0  31.4  43.3  33.5  35.7  31.1   \n",
       "1591  1592   Kochi         Japan  10.4   9.6   7.4  11.0  13.7  10.8  13.0   \n",
       "1264  1265   Shima         China  15.8  21.0  26.2  27.4  20.6  16.0   8.9   \n",
       "2123  2124   Shima         Japan   6.9   5.6   5.3   7.2  10.0   7.2   8.2   \n",
       "1075  1076  Zhuhai     Macao SAR  19.2  24.9  23.3  23.1  25.9  23.0   8.9   \n",
       "1172  1173  Zhuhai         China  17.7  25.1  21.0  21.9  19.5  18.0   8.5   \n",
       "\n",
       "       Jul   Aug   Sep   Oct   Nov   Dec  \n",
       "125   22.0  25.0  28.6  50.6  61.4  77.7  \n",
       "1006  15.1  12.6  12.8  17.8  18.5  19.5  \n",
       "1378  10.3  10.0  10.3  11.4  12.3  13.1  \n",
       "1417   8.8   8.5   9.5   9.5  11.6  12.9  \n",
       "593   29.6  28.4  19.4  24.0  25.5  13.7  \n",
       "1591  11.9   8.5   9.6  10.4  10.3   8.6  \n",
       "1264   3.4   5.1   7.9  13.6  19.1  21.3  \n",
       "2123   7.6   5.9   6.0   6.3   7.3   6.4  \n",
       "1075   9.8  11.0  10.7  19.6  22.9  28.1  \n",
       "1172   7.9   9.3   9.6  18.2  23.1  28.9  "
      ]
     },
     "execution_count": 14,
     "metadata": {},
     "output_type": "execute_result"
    }
   ],
   "source": [
    "df[df['City'].duplicated(keep=False)].sort_values(by='City',ascending=True)\n",
    "#check for same city different country\n"
   ]
  },
  {
   "cell_type": "code",
   "execution_count": 15,
   "id": "48429641",
   "metadata": {},
   "outputs": [],
   "source": [
    "df.drop(1417,axis=0,inplace=True)#drop China, China\n"
   ]
  },
  {
   "cell_type": "code",
   "execution_count": 16,
   "id": "5af0f1ca",
   "metadata": {},
   "outputs": [
    {
     "name": "stdout",
     "output_type": "stream",
     "text": [
      "(2110, 16)\n",
      "Index(['Rank', 'City', 'Country', '2023', 'Jan', 'Feb', 'Mar', 'Apr', 'May',\n",
      "       'Jun', 'Jul', 'Aug', 'Sep', 'Oct', 'Nov', 'Dec'],\n",
      "      dtype='object')\n",
      "Rank         int64\n",
      "City        object\n",
      "Country     object\n",
      "2023       float64\n",
      "Jan        float64\n",
      "Feb        float64\n",
      "Mar        float64\n",
      "Apr        float64\n",
      "May        float64\n",
      "Jun        float64\n",
      "Jul        float64\n",
      "Aug        float64\n",
      "Sep        float64\n",
      "Oct        float64\n",
      "Nov        float64\n",
      "Dec        float64\n",
      "dtype: object\n"
     ]
    }
   ],
   "source": [
    "print(df.shape)\n",
    "print(df.columns)\n",
    "print(df.dtypes)\n"
   ]
  },
  {
   "cell_type": "code",
   "execution_count": 17,
   "id": "7ea99d5c",
   "metadata": {},
   "outputs": [
    {
     "name": "stdout",
     "output_type": "stream",
     "text": [
      "Rank       0\n",
      "City       0\n",
      "Country    0\n",
      "2023       0\n",
      "Jan        0\n",
      "Feb        0\n",
      "Mar        0\n",
      "Apr        0\n",
      "May        0\n",
      "Jun        0\n",
      "Jul        0\n",
      "Aug        0\n",
      "Sep        0\n",
      "Oct        0\n",
      "Nov        0\n",
      "Dec        0\n",
      "dtype: int64\n",
      "0\n"
     ]
    }
   ],
   "source": [
    "print(df.isnull().sum())  # Missing values by column\n",
    "print(df.isnull().sum().sum())  # Total missing values"
   ]
  },
  {
   "cell_type": "code",
   "execution_count": 18,
   "id": "8853180d",
   "metadata": {},
   "outputs": [],
   "source": [
    "df.to_csv('cleaned_data.csv', index=False)\n",
    "df = pd.read_csv(\"cleaned_data.csv\") \n",
    "\n",
    "\n"
   ]
  },
  {
   "cell_type": "markdown",
   "id": "9c4b28ec",
   "metadata": {},
   "source": [
    "# Data Cleaning and Initial Exploration Summary\n",
    "\n",
    "## Dataset Description:\n",
    "\n",
    "The dataset contains information on PM2.5 air pollution levels for 2164 cities across Asia in 2023. It includes columns for the city's rank based on annual PM2.5 average, city and country names, the overall 2023 average, and monthly PM2.5 values from January to December.\n",
    "\n",
    "## Data Cleaning Steps:\n",
    "\n",
    "The dataset was loaded using pandas.read_csv(). Monthly columns were checked and converted to numeric types using pd.to_numeric(errors='coerce') to ensure consistency and handle any non-numeric values.\n",
    "\n",
    "Missing values were primarily found in the monthly columns. These rows were dropped before performing modeling using df.dropna(subset=monthly_columns). The dataset was also checked for duplicate entries, and city names were normalized for case consistency (e.g., 'Almaty' vs 'almaty').\n",
    "\n",
    "## Initial Exploration:\n",
    "\n",
    "The dataset contains 2164 rows and 17 columns, covering over 40 countries in Asia. Descriptive statistics were generated using .describe() to understand the distribution of PM2.5 values. Results showed high variability, with some cities exceeding 100 µg/m³.\n",
    "\n",
    "City-level analysis was performed for selected locations, such as Almaty, to explore monthly trends. Seasonal changes in pollution levels were evident in many cities.\n",
    "\n",
    "## Observations:\n",
    "\n",
    "The dataset is largely clean, with some missing data in monthly values. Seasonal variation is significant, with higher pollution during winter months. The distribution of annual PM2.5 levels is right-skewed, with a few cities experiencing extremely high pollution."
   ]
  },
  {
   "cell_type": "markdown",
   "id": "85b8dec2",
   "metadata": {},
   "source": [
    "# Part 2: EDA Visualizations\n"
   ]
  },
  {
   "cell_type": "code",
   "execution_count": null,
   "id": "5ab162f3",
   "metadata": {},
   "outputs": [
    {
     "name": "stdout",
     "output_type": "stream",
     "text": [
      "        Jan    Feb    Mar    Apr    May   Jun   Jul   Aug   Sep    Oct    Nov  \\\n",
      "0      31.2  235.3  156.8  113.0  109.3  99.0  63.8  61.8  71.5   61.8  210.5   \n",
      "1     220.2  168.1  129.2  112.2   69.5  51.3  46.6  60.2  76.7   76.4  126.9   \n",
      "2     171.8  114.3   77.4   71.0   67.4  42.9  35.3  34.8  39.7  106.3  255.1   \n",
      "3     106.3  123.7   78.1   56.6   53.4  53.9  63.2  59.7  59.6  110.4  253.0   \n",
      "4     143.2  117.3   73.8   52.9   52.4  46.4  39.8  42.2  53.8  125.9  251.0   \n",
      "...     ...    ...    ...    ...    ...   ...   ...   ...   ...    ...    ...   \n",
      "2105    3.8    3.1    3.8    5.1    7.1   4.0   3.1   3.0   3.0    4.3    6.8   \n",
      "2106    5.2    4.5    3.3    3.3    3.3   3.6   3.8   4.9   4.1    3.6    3.1   \n",
      "2107    3.4    4.0    3.2    2.4    2.7   2.5   5.1   4.4   3.8    2.6    2.3   \n",
      "2108    0.9    0.8    1.4    1.4    1.8   2.1   2.3   2.6   2.4    3.0    8.2   \n",
      "2109    1.4    1.5    1.4    1.4    1.5   1.5   1.5   1.5   1.5    1.5    1.5   \n",
      "\n",
      "        Dec  \n",
      "0     285.0  \n",
      "1     128.0  \n",
      "2     210.0  \n",
      "3     201.4  \n",
      "4     197.5  \n",
      "...     ...  \n",
      "2105    4.9  \n",
      "2106    2.8  \n",
      "2107    2.3  \n",
      "2108   11.3  \n",
      "2109    1.5  \n",
      "\n",
      "[2110 rows x 12 columns]\n"
     ]
    },
    {
     "data": {
      "image/png": "[encoded data removed]",
      "text/plain": [
       "<Figure size 1000x600 with 1 Axes>"
      ]
     },
     "metadata": {},
     "output_type": "display_data"
    }
   ],
   "source": [
    "# filter rows for Almaty and Karagandy\n",
    "cities_df = df[df['City'].str.lower().isin(['almaty', 'karagandy'])].set_index('City')\n",
    "\n",
    "\n",
    "# Use iloc to get only the month columns from 4 to 16\n",
    "monthly_data = cities_df.iloc[:, 4:16].T\n",
    "#print(monthly_data)\n",
    "\n",
    "# Plot\n",
    "monthly_data.plot(marker='o', figsize=(10, 6), title=\"Monthly PM2.5 Levels in Almaty vs Karagandy (2023)\")\n",
    "plt.xlabel(\"Month\")\n",
    "plt.ylabel(\"PM2.5 (µg/m³)\")\n",
    "plt.grid(True)\n",
    "plt.show()"
   ]
  },
  {
   "cell_type": "code",
   "execution_count": 20,
   "id": "a1305b15",
   "metadata": {},
   "outputs": [
    {
     "name": "stderr",
     "output_type": "stream",
     "text": [
      "C:\\Users\\рс\\AppData\\Local\\Temp\\ipykernel_10008\\241192791.py:15: FutureWarning: \n",
      "\n",
      "Passing `palette` without assigning `hue` is deprecated and will be removed in v0.14.0. Assign the `y` variable to `hue` and set `legend=False` for the same effect.\n",
      "\n",
      "  sns.barplot(data=top_kz, x='2023', y='City', palette='Reds_r')\n"
     ]
    },
    {
     "data": {
      "image/png": "[encoded data removed]",
      "text/plain": [
       "<Figure size 1000x600 with 1 Axes>"
      ]
     },
     "metadata": {},
     "output_type": "display_data"
    },
    {
     "data": {
      "image/png": "[encoded data removed]",
      "text/plain": [
       "<Figure size 1000x600 with 1 Axes>"
      ]
     },
     "metadata": {},
     "output_type": "display_data"
    }
   ],
   "source": [
    "# Top 10 most polluted cities\n",
    "top10 = df.nlargest(10, '2023')[['City', 'Country', '2023']]\n",
    "\n",
    "# Monthly PM2.5 average across all cities\n",
    "monthly_avg = df.iloc[:, 4:16].mean()\n",
    "\n",
    "# Filter Kazakhstan cities\n",
    "kz_df = df[df['Country'].str.lower() == 'kazakhstan']\n",
    "\n",
    "# Top most polluted Kazakhstan cities\n",
    "top_kz = kz_df.nlargest(10, '2023')[['City', '2023']]\n",
    "\n",
    "# Plot\n",
    "plt.figure(figsize=(10, 6))\n",
    "sns.barplot(data=top_kz, x='2023', y='City', palette='Reds_r')\n",
    "plt.title(\"Top Most Polluted Cities in Kazakhstan (2023)\")\n",
    "plt.xlabel(\"PM2.5 (µg/m³)\")\n",
    "plt.ylabel(\"City\")\n",
    "plt.tight_layout()\n",
    "plt.show()\n",
    "\n",
    "# Plot monthly average trend line\n",
    "plt.figure(figsize=(10, 6))\n",
    "monthly_avg.plot(marker='o')\n",
    "plt.title(\"Monthly PM2.5 Trend (Average Across All Cities)\")\n",
    "plt.xlabel(\"Month\")\n",
    "plt.ylabel(\"PM2.5 (µg/m³)\")\n",
    "plt.grid(True)\n",
    "plt.tight_layout()\n",
    "plt.show()"
   ]
  },
  {
   "cell_type": "code",
   "execution_count": 21,
   "id": "fab57bfa",
   "metadata": {},
   "outputs": [
    {
     "name": "stderr",
     "output_type": "stream",
     "text": [
      "C:\\Users\\рс\\AppData\\Local\\Temp\\ipykernel_10008\\473077477.py:3: FutureWarning: \n",
      "\n",
      "Passing `palette` without assigning `hue` is deprecated and will be removed in v0.14.0. Assign the `y` variable to `hue` and set `legend=False` for the same effect.\n",
      "\n",
      "  sns.barplot(data=top10, x='2023', y='City', palette='Reds_r')\n"
     ]
    },
    {
     "data": {
      "image/png": "[encoded data removed]",
      "text/plain": [
       "<Figure size 1000x600 with 1 Axes>"
      ]
     },
     "metadata": {},
     "output_type": "display_data"
    }
   ],
   "source": [
    "# Plot Top 10 bar chart\n",
    "plt.figure(figsize=(10, 6))\n",
    "sns.barplot(data=top10, x='2023', y='City', palette='Reds_r')\n",
    "plt.title(\"Top 10 Most Polluted Cities in Asia (2023)\")\n",
    "plt.xlabel(\"PM2.5 (µg/m³)\")\n",
    "plt.ylabel(\"City\")\n",
    "plt.tight_layout()\n",
    "plt.show()"
   ]
  },
  {
   "cell_type": "code",
   "execution_count": null,
   "id": "6e78ebe9",
   "metadata": {},
   "outputs": [],
   "source": [
    "#%pip install nbformat==4.2.0 \n"
   ]
  },
  {
   "cell_type": "code",
   "execution_count": 24,
   "id": "3923f120",
   "metadata": {},
   "outputs": [
    {
     "data": {
      "application/vnd.plotly.v1+json": {
       "config": {
        "plotlyServerURL": "https://plot.ly"
       },
       "data": [
        {
         "coloraxis": "coloraxis",
         "geo": "geo",
         "hovertemplate": "Country=%{location}<br>2023=%{z}<extra></extra>",
         "locationmode": "country names",
         "locations": [
          "Armenia",
          "Azerbaijan",
          "Bahrain",
          "Bangladesh",
          "Cambodia",
          "China",
          "Georgia",
          "Hong Kong SAR",
          "India",
          "Indonesia",
          "Iraq",
          "Israel",
          "Japan",
          "Kazakhstan",
          "Kuwait",
          "Kyrgyzstan",
          "Laos",
          "Macao SAR",
          "Malaysia",
          "Maldives",
          "Mongolia",
          "Myanmar",
          "Nepal",
          "Pakistan",
          "Palestinian Territory",
          "Philippines",
          "Qatar",
          "Saudi Arabia",
          "Singapore",
          "South Korea",
          "Sri Lanka",
          "Taiwan",
          "Tajikistan",
          "Thailand",
          "Turkey",
          "United Arab Emirates",
          "Uzbekistan",
          "Vietnam"
         ],
         "name": "",
         "type": "choropleth",
         "z": {
          "bdata": "MzMzMzOzOUDNzMzMzMwyQJqZmZmZmUNAZmZmZmaGUEA0MzMzMzM1QH58nn583j5AMzMzMzOzM0CrqqqqqqowQJqZmZmZzkdAHYGirQZPNkDMzMzMzAxDQEmSJEmSpDFAR5msOPCiIkAk61x5QLIzQDMzMzMz80NApw102kAnPUDNzMzMzMw7QDMzMzMzszFAv+/7vu/7MUAAAAAAAOAwQGZmZmZm5jRAMzMzMzMzPEAAAAAAAOBEQCpcj8L1yE1A7+7u7u5uMkBnZmZmZmYsQDQzMzMzs0JAVVVVVVXVPkDNzMzMzMwqQLMoi7IoizJAXI/C9Si8MUBVGnLuswstQJqZmZmZCUhAfWisD42VOUA+Pj4+Pn4zQM3MzMzMTEZAzczMzMyMNkBH4XoUrkc+QA==",
          "dtype": "f8"
         }
        }
       ],
       "layout": {
        "coloraxis": {
         "colorbar": {
          "title": {
           "text": "2023"
          }
         },
         "colorscale": [
          [
           0,
           "rgb(255,245,240)"
          ],
          [
           0.125,
           "rgb(254,224,210)"
          ],
          [
           0.25,
           "rgb(252,187,161)"
          ],
          [
           0.375,
           "rgb(252,146,114)"
          ],
          [
           0.5,
           "rgb(251,106,74)"
          ],
          [
           0.625,
           "rgb(239,59,44)"
          ],
          [
           0.75,
           "rgb(203,24,29)"
          ],
          [
           0.875,
           "rgb(165,15,21)"
          ],
          [
           1,
           "rgb(103,0,13)"
          ]
         ]
        },
        "geo": {
         "center": {},
         "domain": {
          "x": [
           0,
           1
          ],
          "y": [
           0,
           1
          ]
         },
         "projection": {
          "type": "equirectangular"
         },
         "scope": "asia"
        },
        "legend": {
         "tracegroupgap": 0
        },
        "template": {
         "data": {
          "bar": [
           {
            "error_x": {
             "color": "#2a3f5f"
            },
            "error_y": {
             "color": "#2a3f5f"
            },
            "marker": {
             "line": {
              "color": "#E5ECF6",
              "width": 0.5
             },
             "pattern": {
              "fillmode": "overlay",
              "size": 10,
              "solidity": 0.2
             }
            },
            "type": "bar"
           }
          ],
          "barpolar": [
           {
            "marker": {
             "line": {
              "color": "#E5ECF6",
              "width": 0.5
             },
             "pattern": {
              "fillmode": "overlay",
              "size": 10,
              "solidity": 0.2
             }
            },
            "type": "barpolar"
           }
          ],
          "carpet": [
           {
            "aaxis": {
             "endlinecolor": "#2a3f5f",
             "gridcolor": "white",
             "linecolor": "white",
             "minorgridcolor": "white",
             "startlinecolor": "#2a3f5f"
            },
            "baxis": {
             "endlinecolor": "#2a3f5f",
             "gridcolor": "white",
             "linecolor": "white",
             "minorgridcolor": "white",
             "startlinecolor": "#2a3f5f"
            },
            "type": "carpet"
           }
          ],
          "choropleth": [
           {
            "colorbar": {
             "outlinewidth": 0,
             "ticks": ""
            },
            "type": "choropleth"
           }
          ],
          "contour": [
           {
            "colorbar": {
             "outlinewidth": 0,
             "ticks": ""
            },
            "colorscale": [
             [
              0,
              "#0d0887"
             ],
             [
              0.1111111111111111,
              "#46039f"
             ],
             [
              0.2222222222222222,
              "#7201a8"
             ],
             [
              0.3333333333333333,
              "#9c179e"
             ],
             [
              0.4444444444444444,
              "#bd3786"
             ],
             [
              0.5555555555555556,
              "#d8576b"
             ],
             [
              0.6666666666666666,
              "#ed7953"
             ],
             [
              0.7777777777777778,
              "#fb9f3a"
             ],
             [
              0.8888888888888888,
              "#fdca26"
             ],
             [
              1,
              "#f0f921"
             ]
            ],
            "type": "contour"
           }
          ],
          "contourcarpet": [
           {
            "colorbar": {
             "outlinewidth": 0,
             "ticks": ""
            },
            "type": "contourcarpet"
           }
          ],
          "heatmap": [
           {
            "colorbar": {
             "outlinewidth": 0,
             "ticks": ""
            },
            "colorscale": [
             [
              0,
              "#0d0887"
             ],
             [
              0.1111111111111111,
              "#46039f"
             ],
             [
              0.2222222222222222,
              "#7201a8"
             ],
             [
              0.3333333333333333,
              "#9c179e"
             ],
             [
              0.4444444444444444,
              "#bd3786"
             ],
             [
              0.5555555555555556,
              "#d8576b"
             ],
             [
              0.6666666666666666,
              "#ed7953"
             ],
             [
              0.7777777777777778,
              "#fb9f3a"
             ],
             [
              0.8888888888888888,
              "#fdca26"
             ],
             [
              1,
              "#f0f921"
             ]
            ],
            "type": "heatmap"
           }
          ],
          "histogram": [
           {
            "marker": {
             "pattern": {
              "fillmode": "overlay",
              "size": 10,
              "solidity": 0.2
             }
            },
            "type": "histogram"
           }
          ],
          "histogram2d": [
           {
            "colorbar": {
             "outlinewidth": 0,
             "ticks": ""
            },
            "colorscale": [
             [
              0,
              "#0d0887"
             ],
             [
              0.1111111111111111,
              "#46039f"
             ],
             [
              0.2222222222222222,
              "#7201a8"
             ],
             [
              0.3333333333333333,
              "#9c179e"
             ],
             [
              0.4444444444444444,
              "#bd3786"
             ],
             [
              0.5555555555555556,
              "#d8576b"
             ],
             [
              0.6666666666666666,
              "#ed7953"
             ],
             [
              0.7777777777777778,
              "#fb9f3a"
             ],
             [
              0.8888888888888888,
              "#fdca26"
             ],
             [
              1,
              "#f0f921"
             ]
            ],
            "type": "histogram2d"
           }
          ],
          "histogram2dcontour": [
           {
            "colorbar": {
             "outlinewidth": 0,
             "ticks": ""
            },
            "colorscale": [
             [
              0,
              "#0d0887"
             ],
             [
              0.1111111111111111,
              "#46039f"
             ],
             [
              0.2222222222222222,
              "#7201a8"
             ],
             [
              0.3333333333333333,
              "#9c179e"
             ],
             [
              0.4444444444444444,
              "#bd3786"
             ],
             [
              0.5555555555555556,
              "#d8576b"
             ],
             [
              0.6666666666666666,
              "#ed7953"
             ],
             [
              0.7777777777777778,
              "#fb9f3a"
             ],
             [
              0.8888888888888888,
              "#fdca26"
             ],
             [
              1,
              "#f0f921"
             ]
            ],
            "type": "histogram2dcontour"
           }
          ],
          "mesh3d": [
           {
            "colorbar": {
             "outlinewidth": 0,
             "ticks": ""
            },
            "type": "mesh3d"
           }
          ],
          "parcoords": [
           {
            "line": {
             "colorbar": {
              "outlinewidth": 0,
              "ticks": ""
             }
            },
            "type": "parcoords"
           }
          ],
          "pie": [
           {
            "automargin": true,
            "type": "pie"
           }
          ],
          "scatter": [
           {
            "fillpattern": {
             "fillmode": "overlay",
             "size": 10,
             "solidity": 0.2
            },
            "type": "scatter"
           }
          ],
          "scatter3d": [
           {
            "line": {
             "colorbar": {
              "outlinewidth": 0,
              "ticks": ""
             }
            },
            "marker": {
             "colorbar": {
              "outlinewidth": 0,
              "ticks": ""
             }
            },
            "type": "scatter3d"
           }
          ],
          "scattercarpet": [
           {
            "marker": {
             "colorbar": {
              "outlinewidth": 0,
              "ticks": ""
             }
            },
            "type": "scattercarpet"
           }
          ],
          "scattergeo": [
           {
            "marker": {
             "colorbar": {
              "outlinewidth": 0,
              "ticks": ""
             }
            },
            "type": "scattergeo"
           }
          ],
          "scattergl": [
           {
            "marker": {
             "colorbar": {
              "outlinewidth": 0,
              "ticks": ""
             }
            },
            "type": "scattergl"
           }
          ],
          "scattermap": [
           {
            "marker": {
             "colorbar": {
              "outlinewidth": 0,
              "ticks": ""
             }
            },
            "type": "scattermap"
           }
          ],
          "scattermapbox": [
           {
            "marker": {
             "colorbar": {
              "outlinewidth": 0,
              "ticks": ""
             }
            },
            "type": "scattermapbox"
           }
          ],
          "scatterpolar": [
           {
            "marker": {
             "colorbar": {
              "outlinewidth": 0,
              "ticks": ""
             }
            },
            "type": "scatterpolar"
           }
          ],
          "scatterpolargl": [
           {
            "marker": {
             "colorbar": {
              "outlinewidth": 0,
              "ticks": ""
             }
            },
            "type": "scatterpolargl"
           }
          ],
          "scatterternary": [
           {
            "marker": {
             "colorbar": {
              "outlinewidth": 0,
              "ticks": ""
             }
            },
            "type": "scatterternary"
           }
          ],
          "surface": [
           {
            "colorbar": {
             "outlinewidth": 0,
             "ticks": ""
            },
            "colorscale": [
             [
              0,
              "#0d0887"
             ],
             [
              0.1111111111111111,
              "#46039f"
             ],
             [
              0.2222222222222222,
              "#7201a8"
             ],
             [
              0.3333333333333333,
              "#9c179e"
             ],
             [
              0.4444444444444444,
              "#bd3786"
             ],
             [
              0.5555555555555556,
              "#d8576b"
             ],
             [
              0.6666666666666666,
              "#ed7953"
             ],
             [
              0.7777777777777778,
              "#fb9f3a"
             ],
             [
              0.8888888888888888,
              "#fdca26"
             ],
             [
              1,
              "#f0f921"
             ]
            ],
            "type": "surface"
           }
          ],
          "table": [
           {
            "cells": {
             "fill": {
              "color": "#EBF0F8"
             },
             "line": {
              "color": "white"
             }
            },
            "header": {
             "fill": {
              "color": "#C8D4E3"
             },
             "line": {
              "color": "white"
             }
            },
            "type": "table"
           }
          ]
         },
         "layout": {
          "annotationdefaults": {
           "arrowcolor": "#2a3f5f",
           "arrowhead": 0,
           "arrowwidth": 1
          },
          "autotypenumbers": "strict",
          "coloraxis": {
           "colorbar": {
            "outlinewidth": 0,
            "ticks": ""
           }
          },
          "colorscale": {
           "diverging": [
            [
             0,
             "#8e0152"
            ],
            [
             0.1,
             "#c51b7d"
            ],
            [
             0.2,
             "#de77ae"
            ],
            [
             0.3,
             "#f1b6da"
            ],
            [
             0.4,
             "#fde0ef"
            ],
            [
             0.5,
             "#f7f7f7"
            ],
            [
             0.6,
             "#e6f5d0"
            ],
            [
             0.7,
             "#b8e186"
            ],
            [
             0.8,
             "#7fbc41"
            ],
            [
             0.9,
             "#4d9221"
            ],
            [
             1,
             "#276419"
            ]
           ],
           "sequential": [
            [
             0,
             "#0d0887"
            ],
            [
             0.1111111111111111,
             "#46039f"
            ],
            [
             0.2222222222222222,
             "#7201a8"
            ],
            [
             0.3333333333333333,
             "#9c179e"
            ],
            [
             0.4444444444444444,
             "#bd3786"
            ],
            [
             0.5555555555555556,
             "#d8576b"
            ],
            [
             0.6666666666666666,
             "#ed7953"
            ],
            [
             0.7777777777777778,
             "#fb9f3a"
            ],
            [
             0.8888888888888888,
             "#fdca26"
            ],
            [
             1,
             "#f0f921"
            ]
           ],
           "sequentialminus": [
            [
             0,
             "#0d0887"
            ],
            [
             0.1111111111111111,
             "#46039f"
            ],
            [
             0.2222222222222222,
             "#7201a8"
            ],
            [
             0.3333333333333333,
             "#9c179e"
            ],
            [
             0.4444444444444444,
             "#bd3786"
            ],
            [
             0.5555555555555556,
             "#d8576b"
            ],
            [
             0.6666666666666666,
             "#ed7953"
            ],
            [
             0.7777777777777778,
             "#fb9f3a"
            ],
            [
             0.8888888888888888,
             "#fdca26"
            ],
            [
             1,
             "#f0f921"
            ]
           ]
          },
          "colorway": [
           "#636efa",
           "#EF553B",
           "#00cc96",
           "#ab63fa",
           "#FFA15A",
           "#19d3f3",
           "#FF6692",
           "#B6E880",
           "#FF97FF",
           "#FECB52"
          ],
          "font": {
           "color": "#2a3f5f"
          },
          "geo": {
           "bgcolor": "white",
           "lakecolor": "white",
           "landcolor": "#E5ECF6",
           "showlakes": true,
           "showland": true,
           "subunitcolor": "white"
          },
          "hoverlabel": {
           "align": "left"
          },
          "hovermode": "closest",
          "mapbox": {
           "style": "light"
          },
          "paper_bgcolor": "white",
          "plot_bgcolor": "#E5ECF6",
          "polar": {
           "angularaxis": {
            "gridcolor": "white",
            "linecolor": "white",
            "ticks": ""
           },
           "bgcolor": "#E5ECF6",
           "radialaxis": {
            "gridcolor": "white",
            "linecolor": "white",
            "ticks": ""
           }
          },
          "scene": {
           "xaxis": {
            "backgroundcolor": "#E5ECF6",
            "gridcolor": "white",
            "gridwidth": 2,
            "linecolor": "white",
            "showbackground": true,
            "ticks": "",
            "zerolinecolor": "white"
           },
           "yaxis": {
            "backgroundcolor": "#E5ECF6",
            "gridcolor": "white",
            "gridwidth": 2,
            "linecolor": "white",
            "showbackground": true,
            "ticks": "",
            "zerolinecolor": "white"
           },
           "zaxis": {
            "backgroundcolor": "#E5ECF6",
            "gridcolor": "white",
            "gridwidth": 2,
            "linecolor": "white",
            "showbackground": true,
            "ticks": "",
            "zerolinecolor": "white"
           }
          },
          "shapedefaults": {
           "line": {
            "color": "#2a3f5f"
           }
          },
          "ternary": {
           "aaxis": {
            "gridcolor": "white",
            "linecolor": "white",
            "ticks": ""
           },
           "baxis": {
            "gridcolor": "white",
            "linecolor": "white",
            "ticks": ""
           },
           "bgcolor": "#E5ECF6",
           "caxis": {
            "gridcolor": "white",
            "linecolor": "white",
            "ticks": ""
           }
          },
          "title": {
           "x": 0.05
          },
          "xaxis": {
           "automargin": true,
           "gridcolor": "white",
           "linecolor": "white",
           "ticks": "",
           "title": {
            "standoff": 15
           },
           "zerolinecolor": "white",
           "zerolinewidth": 2
          },
          "yaxis": {
           "automargin": true,
           "gridcolor": "white",
           "linecolor": "white",
           "ticks": "",
           "title": {
            "standoff": 15
           },
           "zerolinecolor": "white",
           "zerolinewidth": 2
          }
         }
        },
        "title": {
         "text": "Average Pollution Index (2023) by Country"
        }
       }
      }
     },
     "metadata": {},
     "output_type": "display_data"
    }
   ],
   "source": [
    "# Group and aggregate\n",
    "map_df = df[[\"Country\", \"2023\"]].groupby(\"Country\").mean().reset_index()\n",
    "fig = px.choropleth(data_frame=map_df,\n",
    "                    locations='Country',\n",
    "                    locationmode='country names',\n",
    "                    color='2023',\n",
    "                    scope='asia',\n",
    "                    projection='equirectangular',\n",
    "                    color_continuous_scale='Reds',\n",
    "                    title='Average Pollution Index (2023) by Country')\n",
    "pio.show(fig)"
   ]
  },
  {
   "cell_type": "markdown",
   "id": "fa6ba57c",
   "metadata": {},
   "source": [
    "# EDA Visualization summary\n",
    "\n",
    "\n",
    "## Data Cleaning and Preparation\n",
    "\n",
    "The dataset containing PM2.5 pollution data for 2164 cities across Asia was loaded and examined. The monthly pollution columns (January to December) were stored in columns 4 to 15 and converted to numeric format to ensure consistency and enable analysis. Rows with missing or invalid numeric values were automatically handled using pd.to_numeric with coercion to NaN. This step was essential to prepare the dataset for accurate aggregation and visualization.\n",
    "\n",
    "## Identifying the Most Polluted Cities\n",
    "\n",
    "Using the cleaned data, we identified the top 10 most polluted cities in Asia based on their 2023 average PM2.5 levels. These cities were visualized using a horizontal bar plot, clearly showing which urban areas experienced the highest pollution. Additionally, a separate ranking was created specifically for Kazakhstan to highlight the most polluted cities within the country. This allowed us to localize the analysis and provide region-specific insights.\n",
    "\n",
    "## Monthly Trends in Air Pollution\n",
    "\n",
    "To understand seasonal patterns, we computed the average PM2.5 level across all cities for each month. This monthly trend line revealed a clear seasonal effect, with PM2.5 concentrations peaking during winter months (especially January) and dipping in summer, likely due to factors such as heating emissions, low atmospheric dispersion, and meteorological conditions.\n",
    "\n",
    "## Heatmap Visualization of Monthly Pollution\n",
    "\n",
    "A heatmap was generated to display monthly PM2.5 levels for the Asia countries. This allowed for a detailed comparison of pollution levels not just annually, but across multiple cities. The visualization highlighted cities with consistently high pollution as well as those that experienced seasonal spikes. Based of this map we can see that India struggles the most with air quality problem and Kazakhstan is in normal state.\n",
    "\n"
   ]
  },
  {
   "cell_type": "markdown",
   "id": "64531a2b",
   "metadata": {},
   "source": [
    "# Part 3: Prediction based on monthly pollution levels (Jan–Dec).\n",
    "\n"
   ]
  },
  {
   "cell_type": "code",
   "execution_count": 103,
   "id": "95fce775",
   "metadata": {},
   "outputs": [],
   "source": [
    "# Define features (monthly columns) and target\n",
    "X = df.iloc[:, 4:16]  # Jan–Dec\n",
    "y = df['2023']"
   ]
  },
  {
   "cell_type": "markdown",
   "id": "a938bc31",
   "metadata": {},
   "source": [
    "### Split the data for test and train"
   ]
  },
  {
   "cell_type": "code",
   "execution_count": 104,
   "id": "5d5fb58f",
   "metadata": {},
   "outputs": [],
   "source": [
    "X_train, X_test, y_train, y_test = train_test_split(X, y, test_size=0.2, random_state=42)\n"
   ]
  },
  {
   "cell_type": "markdown",
   "id": "07b7b50a",
   "metadata": {},
   "source": [
    "### Working with different models\n"
   ]
  },
  {
   "cell_type": "code",
   "execution_count": 105,
   "id": "77a193ad",
   "metadata": {},
   "outputs": [],
   "source": [
    "lr_model = LinearRegression()\n",
    "lr_model.fit(X_train, y_train)\n",
    "lr_preds = lr_model.predict(X_test)"
   ]
  },
  {
   "cell_type": "code",
   "execution_count": 106,
   "id": "c8ce5a08",
   "metadata": {},
   "outputs": [],
   "source": [
    "rf_model = RandomForestRegressor(n_estimators=100, random_state=42)\n",
    "rf_model.fit(X_train, y_train)\n",
    "rf_preds = rf_model.predict(X_test)"
   ]
  },
  {
   "cell_type": "markdown",
   "id": "ad9d3b59",
   "metadata": {},
   "source": [
    "Results of Linear Regression and Random Forest models"
   ]
  },
  {
   "cell_type": "code",
   "execution_count": 111,
   "id": "fc1ec135",
   "metadata": {},
   "outputs": [
    {
     "name": "stdout",
     "output_type": "stream",
     "text": [
      "Linear Regression Results:\n",
      "MAE: 0.625702445206461\n",
      "RMSE: 1.2075254953581946\n",
      "R² Score: 0.9939927807803642\n",
      "\n",
      "Random Forest Results:\n",
      "MAE: 0.9753246445497628\n",
      "RMSE: 1.8325873009599865\n",
      "R² Score: 0.9861640109970561\n",
      "\n"
     ]
    }
   ],
   "source": [
    "def evaluate(true, preds, model_name):\n",
    "    print(f\"{model_name} Results:\")\n",
    "    print(\"MAE:\", mean_absolute_error(true, preds))\n",
    "    print(\"RMSE:\", np.sqrt(mean_squared_error(true, preds)))\n",
    "    print(\"R² Score:\", r2_score(true, preds))\n",
    "    print()\n",
    "\n",
    "evaluate(y_test, lr_preds, \"Linear Regression\")\n",
    "evaluate(y_test, rf_preds, \"Random Forest\")"
   ]
  },
  {
   "cell_type": "code",
   "execution_count": 121,
   "id": "3b6daf81",
   "metadata": {},
   "outputs": [
    {
     "data": {
      "image/png": "[encoded data removed]",
      "text/plain": [
       "<Figure size 1200x500 with 2 Axes>"
      ]
     },
     "metadata": {},
     "output_type": "display_data"
    }
   ],
   "source": [
    "# Set up the figure\n",
    "plt.figure(figsize=(12, 5))\n",
    "\n",
    "# Plot 1: True vs. Predicted\n",
    "plt.subplot(1, 2, 1)\n",
    "sns.scatterplot(x=y_test, y=lr_preds)\n",
    "plt.plot([y_test.min(), y_test.max()], [y_test.min(), y_test.max()], 'r--')\n",
    "plt.xlabel('True PM2.5 (2023)')\n",
    "plt.ylabel('Predicted PM2.5 (2023)')\n",
    "plt.title('Linear Regression: True vs Predicted')\n",
    "\n",
    "# Plot 2: Residuals\n",
    "plt.subplot(1, 2, 2)\n",
    "residuals = y_test - lr_preds\n",
    "sns.residplot(x=y_test, y=residuals, color='purple')\n",
    "plt.axhline(0, linestyle='--', color='red')\n",
    "plt.xlabel('True PM2.5 (2023)')\n",
    "plt.ylabel('Residuals')\n",
    "plt.title('Linear Regression: Residuals')\n",
    "\n",
    "plt.tight_layout()\n",
    "plt.show()"
   ]
  },
  {
   "cell_type": "markdown",
   "id": "625af1a7",
   "metadata": {},
   "source": [
    "Try other models so we can which one have best accuracy on our dataset"
   ]
  },
  {
   "cell_type": "code",
   "execution_count": 115,
   "id": "6a5901ae",
   "metadata": {},
   "outputs": [
    {
     "name": "stdout",
     "output_type": "stream",
     "text": [
      "[LightGBM] [Info] Auto-choosing col-wise multi-threading, the overhead of testing was 0.000353 seconds.\n",
      "You can set `force_col_wise=true` to remove the overhead.\n",
      "[LightGBM] [Info] Total Bins 3059\n",
      "[LightGBM] [Info] Number of data points in the train set: 1688, number of used features: 12\n",
      "[LightGBM] [Info] Start training from score 23.413507\n",
      "               MAE      RMSE        R2\n",
      "LightGBM  1.005058  1.802611  0.986613\n",
      "CatBoost  0.663969  1.312769  0.992900\n",
      "XGBoost   1.072012  1.912404  0.984933\n"
     ]
    }
   ],
   "source": [
    "\n",
    "# Define models\n",
    "models = {\n",
    "    \"LightGBM\": LGBMRegressor(random_state=42),\n",
    "    \"CatBoost\": CatBoostRegressor(verbose=0, random_state=42),\n",
    "    \"XGBoost\": XGBRegressor(random_state=42)\n",
    "}\n",
    "\n",
    "# Train and evaluate\n",
    "results = {}\n",
    "\n",
    "for name, model in models.items():\n",
    "    model.fit(X_train, y_train)\n",
    "    preds = model.predict(X_test)\n",
    "    results[name] = {\n",
    "        \"MAE\": mean_absolute_error(y_test, preds),\n",
    "        \"RMSE\": np.sqrt(mean_squared_error(y_test, preds)),\n",
    "        \"R2\": r2_score(y_test, preds)\n",
    "    }\n",
    "\n",
    "print(pd.DataFrame(results).T)"
   ]
  },
  {
   "cell_type": "code",
   "execution_count": 116,
   "id": "a7e0bacd",
   "metadata": {},
   "outputs": [
    {
     "data": {
      "image/png": "[encoded data removed]",
      "text/plain": [
       "<Figure size 1800x500 with 3 Axes>"
      ]
     },
     "metadata": {},
     "output_type": "display_data"
    }
   ],
   "source": [
    "# Create a DataFrame with your results\n",
    "results_df = pd.DataFrame({\n",
    "    'Model': ['Linear Regression', 'Random Forest', 'LightGBM', 'CatBoost', 'XGBoost'],\n",
    "    'MAE': [0.626, 0.975, 1.01, 0.664, 1.072],\n",
    "    'RMSE': [1.21, 1.83, 1.80, 1.31, 1.91],\n",
    "    'R2': [0.994, 0.986, 0.987, 0.993, 0.985]\n",
    "})\n",
    "\n",
    "# Plotting\n",
    "sns.set(style=\"whitegrid\")\n",
    "fig, axes = plt.subplots(1, 3, figsize=(18, 5))\n",
    "\n",
    "# MAE\n",
    "sns.barplot(x='Model', y='MAE', hue='Model', data=results_df, ax=axes[0], palette='Blues_d', legend=False)\n",
    "axes[0].set_title('MAE by Model')\n",
    "axes[0].tick_params(axis='x', rotation=45)\n",
    "\n",
    "# RMSE\n",
    "sns.barplot(x='Model', y='RMSE', hue='Model', data=results_df, ax=axes[1], palette='Greens_d', legend=False)\n",
    "axes[1].set_title('RMSE by Model')\n",
    "axes[1].tick_params(axis='x', rotation=45)\n",
    "\n",
    "# R²\n",
    "sns.barplot(x='Model', y='R2', hue='Model', data=results_df, ax=axes[2], palette='Oranges_d', legend=False)\n",
    "axes[2].set_title('R² Score by Model')\n",
    "axes[2].tick_params(axis='x', rotation=45)\n",
    "\n",
    "plt.tight_layout()\n",
    "plt.show()"
   ]
  },
  {
   "cell_type": "markdown",
   "id": "65f2c1e1",
   "metadata": {},
   "source": [
    "## Review of models and overall prediction:\n",
    "\n",
    "Linear Regression model is performing exceptionally well on this dataset. It means:\n",
    "\n",
    "Monthly PM2.5 values are highly predictive of the annual average.\n",
    "\n",
    "The dataset is clean and consistent, with minimal noise.\n",
    "\n",
    "No obvious overfitting on the test set.\n",
    "\n",
    "Best model: Linear Regression — due to its lowest errors and highest R².\n",
    "\n",
    "Runner-up: CatBoost — excellent performance, especially if the data becomes more complex.\n",
    "\n",
    "Other models (LightGBM, XGBoost, RF): Still very good, but not better than the linear baseline here.\n",
    "\n",
    "This shows that sometimes simpler models outperform more complex ones, especially when the data has a strong linear structure — which seems to be the case with monthly vs. annual PM2.5 levels."
   ]
  }
 ],
 "metadata": {
  "kernelspec": {
   "display_name": "Python 3",
   "language": "python",
   "name": "python3"
  },
  "language_info": {
   "codemirror_mode": {
    "name": "ipython",
    "version": 3
   },
   "file_extension": ".py",
   "mimetype": "text/x-python",
   "name": "python",
   "nbconvert_exporter": "python",
   "pygments_lexer": "ipython3",
   "version": "3.12.9"
  }
 },
 "nbformat": 4,
 "nbformat_minor": 5
}
